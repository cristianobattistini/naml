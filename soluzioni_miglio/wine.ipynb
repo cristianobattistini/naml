{
 "cells": [
  {
   "cell_type": "markdown",
   "metadata": {
    "id": "D9P9Y5M7tfO6"
   },
   "source": [
    "# Wine customer segmentation\n",
    "\n",
    "These data are the results of a chemical analysis of wines grown in the same region in Italy but derived from three different cultivars, belonging to three different customer segments. The analysis determined the quantities of 13 constituents found in each of the three types of wines.\n",
    "\n"
   ]
  },
  {
   "cell_type": "code",
   "execution_count": 10,
   "metadata": {
    "id": "2jGV6G_jpz9n"
   },
   "outputs": [],
   "source": [
    "import pandas as pd\n",
    "import numpy as np\n",
    "import matplotlib.pyplot as plt\n",
    "\n",
    "data = pd.read_csv('https://archive.ics.uci.edu/ml/machine-learning-databases/wine/wine.data', header = None)\n",
    "A = np.array(data)[:,1:].astype(np.float64).T # matrix containing the data (num features x num wines)\n",
    "labels = np.array(data)[:,0].astype(np.int32) # the label of each wine (i.e. customer segment)\n",
    "groups = (1,2,3) # customer segments: 1 = low quality; 2 = medium quality; 3 = high quality\n",
    "features = ['Alcohol', 'Malic_Acid', 'Ash', 'Ash_Alcanity', 'Magnesium', 'Total_Phenols',\n",
    "            'Flavanoids', 'Nonflavanoid_Phenols', 'Proanthocyanins', 'Color_Intensity',\n",
    "            'Hue', 'OD280', 'Proline'] # features descriptions"
   ]
  },
  {
   "cell_type": "code",
   "execution_count": 22,
   "metadata": {},
   "outputs": [
    {
     "data": {
      "text/html": [
       "<div>\n",
       "<style scoped>\n",
       "    .dataframe tbody tr th:only-of-type {\n",
       "        vertical-align: middle;\n",
       "    }\n",
       "\n",
       "    .dataframe tbody tr th {\n",
       "        vertical-align: top;\n",
       "    }\n",
       "\n",
       "    .dataframe thead th {\n",
       "        text-align: right;\n",
       "    }\n",
       "</style>\n",
       "<table border=\"1\" class=\"dataframe\">\n",
       "  <thead>\n",
       "    <tr style=\"text-align: right;\">\n",
       "      <th></th>\n",
       "      <th>0</th>\n",
       "      <th>1</th>\n",
       "      <th>2</th>\n",
       "      <th>3</th>\n",
       "      <th>4</th>\n",
       "      <th>5</th>\n",
       "      <th>6</th>\n",
       "      <th>7</th>\n",
       "      <th>8</th>\n",
       "      <th>9</th>\n",
       "      <th>10</th>\n",
       "      <th>11</th>\n",
       "      <th>12</th>\n",
       "      <th>13</th>\n",
       "    </tr>\n",
       "  </thead>\n",
       "  <tbody>\n",
       "    <tr>\n",
       "      <th>0</th>\n",
       "      <td>1</td>\n",
       "      <td>14.23</td>\n",
       "      <td>1.71</td>\n",
       "      <td>2.43</td>\n",
       "      <td>15.6</td>\n",
       "      <td>127</td>\n",
       "      <td>2.80</td>\n",
       "      <td>3.06</td>\n",
       "      <td>0.28</td>\n",
       "      <td>2.29</td>\n",
       "      <td>5.64</td>\n",
       "      <td>1.04</td>\n",
       "      <td>3.92</td>\n",
       "      <td>1065</td>\n",
       "    </tr>\n",
       "    <tr>\n",
       "      <th>1</th>\n",
       "      <td>1</td>\n",
       "      <td>13.20</td>\n",
       "      <td>1.78</td>\n",
       "      <td>2.14</td>\n",
       "      <td>11.2</td>\n",
       "      <td>100</td>\n",
       "      <td>2.65</td>\n",
       "      <td>2.76</td>\n",
       "      <td>0.26</td>\n",
       "      <td>1.28</td>\n",
       "      <td>4.38</td>\n",
       "      <td>1.05</td>\n",
       "      <td>3.40</td>\n",
       "      <td>1050</td>\n",
       "    </tr>\n",
       "    <tr>\n",
       "      <th>2</th>\n",
       "      <td>1</td>\n",
       "      <td>13.16</td>\n",
       "      <td>2.36</td>\n",
       "      <td>2.67</td>\n",
       "      <td>18.6</td>\n",
       "      <td>101</td>\n",
       "      <td>2.80</td>\n",
       "      <td>3.24</td>\n",
       "      <td>0.30</td>\n",
       "      <td>2.81</td>\n",
       "      <td>5.68</td>\n",
       "      <td>1.03</td>\n",
       "      <td>3.17</td>\n",
       "      <td>1185</td>\n",
       "    </tr>\n",
       "    <tr>\n",
       "      <th>3</th>\n",
       "      <td>1</td>\n",
       "      <td>14.37</td>\n",
       "      <td>1.95</td>\n",
       "      <td>2.50</td>\n",
       "      <td>16.8</td>\n",
       "      <td>113</td>\n",
       "      <td>3.85</td>\n",
       "      <td>3.49</td>\n",
       "      <td>0.24</td>\n",
       "      <td>2.18</td>\n",
       "      <td>7.80</td>\n",
       "      <td>0.86</td>\n",
       "      <td>3.45</td>\n",
       "      <td>1480</td>\n",
       "    </tr>\n",
       "    <tr>\n",
       "      <th>4</th>\n",
       "      <td>1</td>\n",
       "      <td>13.24</td>\n",
       "      <td>2.59</td>\n",
       "      <td>2.87</td>\n",
       "      <td>21.0</td>\n",
       "      <td>118</td>\n",
       "      <td>2.80</td>\n",
       "      <td>2.69</td>\n",
       "      <td>0.39</td>\n",
       "      <td>1.82</td>\n",
       "      <td>4.32</td>\n",
       "      <td>1.04</td>\n",
       "      <td>2.93</td>\n",
       "      <td>735</td>\n",
       "    </tr>\n",
       "    <tr>\n",
       "      <th>...</th>\n",
       "      <td>...</td>\n",
       "      <td>...</td>\n",
       "      <td>...</td>\n",
       "      <td>...</td>\n",
       "      <td>...</td>\n",
       "      <td>...</td>\n",
       "      <td>...</td>\n",
       "      <td>...</td>\n",
       "      <td>...</td>\n",
       "      <td>...</td>\n",
       "      <td>...</td>\n",
       "      <td>...</td>\n",
       "      <td>...</td>\n",
       "      <td>...</td>\n",
       "    </tr>\n",
       "    <tr>\n",
       "      <th>173</th>\n",
       "      <td>3</td>\n",
       "      <td>13.71</td>\n",
       "      <td>5.65</td>\n",
       "      <td>2.45</td>\n",
       "      <td>20.5</td>\n",
       "      <td>95</td>\n",
       "      <td>1.68</td>\n",
       "      <td>0.61</td>\n",
       "      <td>0.52</td>\n",
       "      <td>1.06</td>\n",
       "      <td>7.70</td>\n",
       "      <td>0.64</td>\n",
       "      <td>1.74</td>\n",
       "      <td>740</td>\n",
       "    </tr>\n",
       "    <tr>\n",
       "      <th>174</th>\n",
       "      <td>3</td>\n",
       "      <td>13.40</td>\n",
       "      <td>3.91</td>\n",
       "      <td>2.48</td>\n",
       "      <td>23.0</td>\n",
       "      <td>102</td>\n",
       "      <td>1.80</td>\n",
       "      <td>0.75</td>\n",
       "      <td>0.43</td>\n",
       "      <td>1.41</td>\n",
       "      <td>7.30</td>\n",
       "      <td>0.70</td>\n",
       "      <td>1.56</td>\n",
       "      <td>750</td>\n",
       "    </tr>\n",
       "    <tr>\n",
       "      <th>175</th>\n",
       "      <td>3</td>\n",
       "      <td>13.27</td>\n",
       "      <td>4.28</td>\n",
       "      <td>2.26</td>\n",
       "      <td>20.0</td>\n",
       "      <td>120</td>\n",
       "      <td>1.59</td>\n",
       "      <td>0.69</td>\n",
       "      <td>0.43</td>\n",
       "      <td>1.35</td>\n",
       "      <td>10.20</td>\n",
       "      <td>0.59</td>\n",
       "      <td>1.56</td>\n",
       "      <td>835</td>\n",
       "    </tr>\n",
       "    <tr>\n",
       "      <th>176</th>\n",
       "      <td>3</td>\n",
       "      <td>13.17</td>\n",
       "      <td>2.59</td>\n",
       "      <td>2.37</td>\n",
       "      <td>20.0</td>\n",
       "      <td>120</td>\n",
       "      <td>1.65</td>\n",
       "      <td>0.68</td>\n",
       "      <td>0.53</td>\n",
       "      <td>1.46</td>\n",
       "      <td>9.30</td>\n",
       "      <td>0.60</td>\n",
       "      <td>1.62</td>\n",
       "      <td>840</td>\n",
       "    </tr>\n",
       "    <tr>\n",
       "      <th>177</th>\n",
       "      <td>3</td>\n",
       "      <td>14.13</td>\n",
       "      <td>4.10</td>\n",
       "      <td>2.74</td>\n",
       "      <td>24.5</td>\n",
       "      <td>96</td>\n",
       "      <td>2.05</td>\n",
       "      <td>0.76</td>\n",
       "      <td>0.56</td>\n",
       "      <td>1.35</td>\n",
       "      <td>9.20</td>\n",
       "      <td>0.61</td>\n",
       "      <td>1.60</td>\n",
       "      <td>560</td>\n",
       "    </tr>\n",
       "  </tbody>\n",
       "</table>\n",
       "<p>178 rows × 14 columns</p>\n",
       "</div>"
      ],
      "text/plain": [
       "     0      1     2     3     4    5     6     7     8     9      10    11  \\\n",
       "0     1  14.23  1.71  2.43  15.6  127  2.80  3.06  0.28  2.29   5.64  1.04   \n",
       "1     1  13.20  1.78  2.14  11.2  100  2.65  2.76  0.26  1.28   4.38  1.05   \n",
       "2     1  13.16  2.36  2.67  18.6  101  2.80  3.24  0.30  2.81   5.68  1.03   \n",
       "3     1  14.37  1.95  2.50  16.8  113  3.85  3.49  0.24  2.18   7.80  0.86   \n",
       "4     1  13.24  2.59  2.87  21.0  118  2.80  2.69  0.39  1.82   4.32  1.04   \n",
       "..   ..    ...   ...   ...   ...  ...   ...   ...   ...   ...    ...   ...   \n",
       "173   3  13.71  5.65  2.45  20.5   95  1.68  0.61  0.52  1.06   7.70  0.64   \n",
       "174   3  13.40  3.91  2.48  23.0  102  1.80  0.75  0.43  1.41   7.30  0.70   \n",
       "175   3  13.27  4.28  2.26  20.0  120  1.59  0.69  0.43  1.35  10.20  0.59   \n",
       "176   3  13.17  2.59  2.37  20.0  120  1.65  0.68  0.53  1.46   9.30  0.60   \n",
       "177   3  14.13  4.10  2.74  24.5   96  2.05  0.76  0.56  1.35   9.20  0.61   \n",
       "\n",
       "       12    13  \n",
       "0    3.92  1065  \n",
       "1    3.40  1050  \n",
       "2    3.17  1185  \n",
       "3    3.45  1480  \n",
       "4    2.93   735  \n",
       "..    ...   ...  \n",
       "173  1.74   740  \n",
       "174  1.56   750  \n",
       "175  1.56   835  \n",
       "176  1.62   840  \n",
       "177  1.60   560  \n",
       "\n",
       "[178 rows x 14 columns]"
      ]
     },
     "execution_count": 22,
     "metadata": {},
     "output_type": "execute_result"
    }
   ],
   "source": [
    "data"
   ]
  },
  {
   "cell_type": "code",
   "execution_count": 21,
   "metadata": {},
   "outputs": [
    {
     "data": {
      "text/plain": [
       "array([[1.423e+01, 1.320e+01, 1.316e+01, ..., 1.327e+01, 1.317e+01,\n",
       "        1.413e+01],\n",
       "       [1.710e+00, 1.780e+00, 2.360e+00, ..., 4.280e+00, 2.590e+00,\n",
       "        4.100e+00],\n",
       "       [2.430e+00, 2.140e+00, 2.670e+00, ..., 2.260e+00, 2.370e+00,\n",
       "        2.740e+00],\n",
       "       ...,\n",
       "       [1.040e+00, 1.050e+00, 1.030e+00, ..., 5.900e-01, 6.000e-01,\n",
       "        6.100e-01],\n",
       "       [3.920e+00, 3.400e+00, 3.170e+00, ..., 1.560e+00, 1.620e+00,\n",
       "        1.600e+00],\n",
       "       [1.065e+03, 1.050e+03, 1.185e+03, ..., 8.350e+02, 8.400e+02,\n",
       "        5.600e+02]])"
      ]
     },
     "execution_count": 21,
     "metadata": {},
     "output_type": "execute_result"
    }
   ],
   "source": [
    "A"
   ]
  },
  {
   "cell_type": "markdown",
   "metadata": {
    "id": "BgYSNVPKvOXA"
   },
   "source": [
    "# Questions\n",
    "\n",
    "1. How many features? How many samples? How many samples belong to each customer segment?"
   ]
  },
  {
   "cell_type": "code",
   "execution_count": 11,
   "metadata": {
    "colab": {
     "base_uri": "https://localhost:8080/"
    },
    "id": "TleEo39eq8_n",
    "outputId": "c3f63686-6405-4a2a-ce07-e886ad57ee52"
   },
   "outputs": [
    {
     "name": "stdout",
     "output_type": "stream",
     "text": [
      "13 features\n",
      "178 samples\n",
      "\n",
      "59 wines in customer segment #1\n",
      "71 wines in customer segment #2\n",
      "48 wines in customer segment #3\n"
     ]
    }
   ],
   "source": [
    "print('%d features' % A.shape[0])\n",
    "print('%d samples'  % A.shape[1])\n",
    "print('')\n",
    "\n",
    "for g in groups:\n",
    "  print('%d wines in customer segment #%s'% (np.sum(labels == g), g))"
   ]
  },
  {
   "cell_type": "markdown",
   "metadata": {
    "id": "E6g1-lI3vqh3"
   },
   "source": [
    "2. Normalize the data so that each feature has zero mean and unitary standard deviation."
   ]
  },
  {
   "cell_type": "code",
   "execution_count": 12,
   "metadata": {
    "id": "TCGEtsd3sqGP"
   },
   "outputs": [],
   "source": [
    "A_norm = (A - np.mean(A, axis = 1)[:,None]) / np.std(A, axis = 1)[:,None]"
   ]
  },
  {
   "cell_type": "markdown",
   "metadata": {
    "id": "8-fubRBYvyYv"
   },
   "source": [
    "3. Perform PCA on the dataset by means of the SVD decomposition. Then, plot the trend of\n",
    "- the singular values $\\sigma_k$\n",
    "- the cumulate fraction of singular values: $\\frac{\\sum_{i=1}^{k} \\sigma_i}{\\sum_{i=1}^{q} \\sigma_i}$\n",
    "- the fraction of the \"explained variance\": $\\frac{\\sum_{i=1}^{k} \\sigma_i^2}{\\sum_{i=1}^{q} \\sigma_i^2}$\n",
    "\n",
    "Comment on the results."
   ]
  },
  {
   "cell_type": "code",
   "execution_count": 13,
   "metadata": {
    "colab": {
     "base_uri": "https://localhost:8080/",
     "height": 380
    },
    "id": "-bA0ruz4rNaJ",
    "outputId": "48d5620f-043b-4515-cf9a-94cd0d068cf5"
   },
   "outputs": [
    {
     "data": {
      "text/plain": [
       "Text(0.5, 1.0, 'Explained variance')"
      ]
     },
     "execution_count": 13,
     "metadata": {},
     "output_type": "execute_result"
    },
    {
     "data": {
      "image/png": "[encoded data removed]",
      "text/plain": [
       "<Figure size 1800x600 with 3 Axes>"
      ]
     },
     "metadata": {},
     "output_type": "display_data"
    }
   ],
   "source": [
    "U, s, VT = np.linalg.svd(A_norm, full_matrices = False)\n",
    "\n",
    "fig, axes = plt.subplots(nrows=1, ncols=3, figsize = (18,6))\n",
    "\n",
    "axes[0].semilogy(s, 'o-')\n",
    "axes[0].set_title('Singluar values')\n",
    "\n",
    "axes[1].plot(np.cumsum(s)/np.sum(s), 'o-')\n",
    "axes[1].set_title('Cumulate fraction of singular values')\n",
    "\n",
    "axes[2].plot(np.cumsum(s**2)/np.sum(s**2), 'o-')\n",
    "axes[2].set_title('Explained variance')"
   ]
  },
  {
   "cell_type": "markdown",
   "metadata": {},
   "source": [
    "### Singular Values Plot (Left):\n",
    "The singular values decrease rapidly, indicating that most of the variation in the dataset is captured by the first few singular values.\n",
    "This suggests that the data has a low-rank structure, meaning only a few dimensions are needed to explain most of the variance in the data."
   ]
  },
  {
   "cell_type": "markdown",
   "metadata": {},
   "source": [
    "### Cumulative Fraction of Singular Values (Middle):\n",
    "The cumulative fraction of singular values reaches close to 1 after a few values.\n",
    "This implies that a small number of singular values account for a significant proportion of the total \"energy\" (sum of singular values) of the dataset.\n",
    "For example, from the plot, about 5-7 singular values capture the majority of the data's information"
   ]
  },
  {
   "cell_type": "markdown",
   "metadata": {},
   "source": [
    "### Explained Variance (Right):\n",
    "The explained variance follows a curve that saturates near 1 as more singular values are included.\n",
    "This demonstrates that the first few singular values explain the majority of the variance in the dataset.\n",
    "For instance, if only the first 5-7 singular values are considered, the explained variance exceeds 90%, suggesting dimensionality reduction to 5-7 dimensions may preserve most of the information."
   ]
  },
  {
   "cell_type": "markdown",
   "metadata": {
    "id": "EWnWtPNTv-kP"
   },
   "source": [
    "4. Compute a matrix containing the principal components associated with the dataset."
   ]
  },
  {
   "cell_type": "code",
   "execution_count": 14,
   "metadata": {
    "id": "peMGHWhwrSFQ"
   },
   "outputs": [],
   "source": [
    "Phi = np.matmul(U.transpose(), A_norm)"
   ]
  },
  {
   "cell_type": "code",
   "execution_count": 15,
   "metadata": {
    "colab": {
     "base_uri": "https://localhost:8080/"
    },
    "id": "Qfl1hrO5OR3a",
    "outputId": "fe152eac-6508-489b-afb4-4a91b483025a"
   },
   "outputs": [
    {
     "data": {
      "text/plain": [
       "(13, 178)"
      ]
     },
     "execution_count": 15,
     "metadata": {},
     "output_type": "execute_result"
    }
   ],
   "source": [
    "Phi.shape"
   ]
  },
  {
   "cell_type": "markdown",
   "metadata": {
    "id": "XpoVf8KUwBWH"
   },
   "source": [
    "5. Generate a scatterplot of the first two principal components of the dataset, grouped by label. Draw a line that separates, as well as you manage, the category of low customer segment wines from the rest of the wines (chose intercept and slope of the line by hand, trying to achieve a good result).\n"
   ]
  },
  {
   "cell_type": "code",
   "execution_count": 16,
   "metadata": {
    "colab": {
     "base_uri": "https://localhost:8080/",
     "height": 466
    },
    "id": "tg5mBxQIrW0f",
    "outputId": "76c37451-b133-424b-c1b5-989138616137"
   },
   "outputs": [
    {
     "data": {
      "text/plain": [
       "[<matplotlib.lines.Line2D at 0x1eed7ce1b10>]"
      ]
     },
     "execution_count": 16,
     "metadata": {},
     "output_type": "execute_result"
    },
    {
     "data": {
      "image/png": "[encoded data removed]",
      "text/plain": [
       "<Figure size 640x480 with 1 Axes>"
      ]
     },
     "metadata": {},
     "output_type": "display_data"
    }
   ],
   "source": [
    "for g in groups:\n",
    "  plt.scatter(Phi[0, labels == g], Phi[1, labels == g], label = g)\n",
    "plt.xlabel('1st p.c.')\n",
    "plt.ylabel('2nd p.c.')\n",
    "plt.legend()\n",
    "\n",
    "m = -1\n",
    "q = -1\n",
    "x_values = np.linspace(-4, 4)\n",
    "plt.plot(x_values, m*x_values + q, 'k-')"
   ]
  },
  {
   "cell_type": "markdown",
   "metadata": {
    "id": "_jnwysjZTnTa"
   },
   "source": [
    "6. Based on the line of point 4, define a predictor to detect wines of low customer segment. Then, compute the number of true positives (TP), false positives (FP), true negatives (TN), false negatives (FN). Finally, compute\n",
    "  - sensitivity: (TP) / (TP+FN)\n",
    "  - specificity: (TN) / (TN+FP)\n",
    "  - accuracy: (TP+TN) / (TP+TN+FP+FN)"
   ]
  },
  {
   "cell_type": "code",
   "execution_count": 20,
   "metadata": {},
   "outputs": [
    {
     "data": {
      "text/plain": [
       "(178,)"
      ]
     },
     "execution_count": 20,
     "metadata": {},
     "output_type": "execute_result"
    }
   ],
   "source": [
    "Phi[1, :].shape"
   ]
  },
  {
   "cell_type": "code",
   "execution_count": null,
   "metadata": {
    "colab": {
     "base_uri": "https://localhost:8080/"
    },
    "id": "ce_yz509NGNl",
    "outputId": "8219bf71-c471-48aa-d879-11d561753549"
   },
   "outputs": [
    {
     "name": "stdout",
     "output_type": "stream",
     "text": [
      "true positives:  56\n",
      "false positives: 3\n",
      "true negatives:  115\n",
      "false negatives: 4\n",
      "\n",
      "sensitivity: 93.3%\n",
      "specificity: 97.5%\n",
      "accuracy: 96.1%\n"
     ]
    }
   ],
   "source": [
    "# predicts whether each point is \"low quality\" by checking if it lies below the decision boundary\n",
    "low_quality_predic = Phi[1, :] < m*Phi[0, :] + q \n",
    "# compare labels to determine which points belong to class \"low quality\"\n",
    "low_quality_actual = labels <= 1\n",
    "\n",
    "\n",
    "TP = np.sum(np.logical_and(low_quality_predic == 1, low_quality_actual == 1))\n",
    "FP = np.sum(np.logical_and(low_quality_predic == 0, low_quality_actual == 1))\n",
    "TN = np.sum(np.logical_and(low_quality_predic == 0, low_quality_actual == 0))\n",
    "FN = np.sum(np.logical_and(low_quality_predic == 1, low_quality_actual == 0))\n",
    "print('true positives:  %d' % TP)\n",
    "print('false positives: %d' % FP)\n",
    "print('true negatives:  %d' % TN)\n",
    "print('false negatives: %d' % FN)\n",
    "print()\n",
    "print('sensitivity: %2.1f%%' % (100 * (TP) / (TP+FN)))\n",
    "print('specificity: %2.1f%%' % (100 * (TN) / (TN+FP)))\n",
    "print('accuracy: %2.1f%%' % (100 * (TP+TN) / (TP+TN+FP+FN)))"
   ]
  }
 ],
 "metadata": {
  "colab": {
   "provenance": []
  },
  "kernelspec": {
   "display_name": "Python 3",
   "name": "python3"
  },
  "language_info": {
   "codemirror_mode": {
    "name": "ipython",
    "version": 3
   },
   "file_extension": ".py",
   "mimetype": "text/x-python",
   "name": "python",
   "nbconvert_exporter": "python",
   "pygments_lexer": "ipython3",
   "version": "3.11.5"
  }
 },
 "nbformat": 4,
 "nbformat_minor": 0
}
