{
  "nbformat": 4,
  "nbformat_minor": 0,
  "metadata": {
    "colab": {
      "provenance": [],
      "authorship_tag": "ABX9TyOtqaiVFpcQABewZ8XfB0s6",
      "include_colab_link": true
    },
    "kernelspec": {
      "name": "python3",
      "display_name": "Python 3"
    },
    "language_info": {
      "name": "python"
    }
  },
  "cells": [
    {
      "cell_type": "markdown",
      "metadata": {
        "id": "view-in-github",
        "colab_type": "text"
      },
      "source": [
        "<a href=\"https://colab.research.google.com/github/cristianobattistini/naml/blob/main/Python_Lecture2.ipynb\" target=\"_parent\"><img src=\"https://colab.research.google.com/assets/colab-badge.svg\" alt=\"Open In Colab\"/></a>"
      ]
    },
    {
      "cell_type": "code",
      "execution_count": 3,
      "metadata": {
        "colab": {
          "base_uri": "https://localhost:8080/"
        },
        "id": "MbfigesQs59M",
        "outputId": "52587a6a-4116-4893-a3b1-bac90585cce9"
      },
      "outputs": [
        {
          "output_type": "stream",
          "name": "stdout",
          "text": [
            "6\n",
            "range(0, 6)\n",
            "[0, 1, 2, 3, 4, 5]\n",
            "0 M\n",
            "1 C\n",
            "2 L\n",
            "3 X\n",
            "4 X\n"
          ]
        }
      ],
      "source": [
        "symbols = {\n",
        "      \"I\":1,\n",
        "      'V':5,\n",
        "      'X':10,\n",
        "      'L':50,\n",
        "      'C':100,\n",
        "      'D':500,\n",
        "      'M':1000\n",
        "}\n",
        "symbols['L']\n",
        "\n",
        "Roman='MCLXXI'\n",
        "print(len(Roman))\n",
        "print(range(len(Roman)))\n",
        "print(list(range(len(Roman))))\n",
        "\n",
        "# range specificies the list of integeres between 2 numbers\n",
        "\n",
        "for i in range(len(Roman) -1):\n",
        "        print(i, Roman[i])\n"
      ]
    },
    {
      "cell_type": "code",
      "source": [
        "def roman2Decimal(Roman):\n",
        "\n",
        "  symbols = {\n",
        "      \"I\":1,\n",
        "      'V':5,\n",
        "      'X':10,\n",
        "      'L':50,\n",
        "      'C':100,\n",
        "      'D':500,\n",
        "      'M':1000\n",
        "  }\n",
        "\n",
        "  Decimal = 0\n",
        "  for i in range(len(Roman) -1):\n",
        "    left = Roman[i]\n",
        "    right = Roman[i+1]\n",
        "    if symbols[left] < symbols[right]:\n",
        "      Decimal -= symbols[left]\n",
        "    else:\n",
        "      Decimal += symbols[left]\n",
        "  Decimal += symbols[Roman[-1]]\n",
        "  return Decimal\n",
        "\n",
        "\n",
        "print(roman2Decimal('XXIV'))"
      ],
      "metadata": {
        "colab": {
          "base_uri": "https://localhost:8080/"
        },
        "id": "s57TUsHpuXfX",
        "outputId": "49e28c2a-2760-4af1-b044-e4dc8665790d"
      },
      "execution_count": 13,
      "outputs": [
        {
          "output_type": "stream",
          "name": "stdout",
          "text": [
            "a\n",
            "a\n",
            "b\n",
            "24\n"
          ]
        }
      ]
    },
    {
      "cell_type": "code",
      "source": [
        "# convert decimal number to binary\n",
        "def decimal2Binary(decimal):\n",
        "  # int(5/2) === 5//2 quoziente\n",
        "  # 5%2  resto\n",
        "  value = \"\"\n",
        "  quoziente = decimal\n",
        "  list =  []\n",
        "  while(quoziente > 0):\n",
        "    elem = quoziente\n",
        "    quoziente = elem//2\n",
        "    remainder = elem%2\n",
        "    value = str(remainder) + value\n",
        "  return value\n",
        "\n",
        "print(decimal2Binary(17))\n"
      ],
      "metadata": {
        "colab": {
          "base_uri": "https://localhost:8080/"
        },
        "id": "IeNLQJYqxaSs",
        "outputId": "2a2ea37a-7418-4286-bc67-5d2bca7fb9c0"
      },
      "execution_count": 24,
      "outputs": [
        {
          "output_type": "stream",
          "name": "stdout",
          "text": [
            "10001\n"
          ]
        }
      ]
    },
    {
      "cell_type": "code",
      "source": [
        "#fibonacci problem\n",
        "# f(0) = 0\n",
        "# f(1) = 1\n",
        "# f(n) = f(n-1) - f(n-2)\n",
        "def fibo(n):\n",
        "  if not isinstance(n, int):\n",
        "    raise Exception(\"Sorry, use only numbers\")\n",
        "  if n < 0:\n",
        "    raise Exception(\"Sorry, no numbers below zero\")\n",
        "  if n<=1:\n",
        "    return n\n",
        "  else:\n",
        "    return(fibo(n-1)+fibo(n-2)) #recursive\n",
        "\n",
        "print(fibo(10))"
      ],
      "metadata": {
        "colab": {
          "base_uri": "https://localhost:8080/"
        },
        "id": "iWDVKOma0Wik",
        "outputId": "b51c47b4-cf75-446b-dbc5-34a69ed13de9"
      },
      "execution_count": 31,
      "outputs": [
        {
          "output_type": "stream",
          "name": "stdout",
          "text": [
            "55\n"
          ]
        }
      ]
    },
    {
      "cell_type": "markdown",
      "source": [
        "List comprehension in Python is a concise way of creating lists from the ones that already exist"
      ],
      "metadata": {
        "id": "UzHZfcch12a6"
      }
    },
    {
      "cell_type": "code",
      "source": [
        "F = [fibo(n) for n in range(15)]\n",
        "print(F)\n",
        "\n",
        "squares = [n**2 for n in range(10)]\n",
        "print(squares)"
      ],
      "metadata": {
        "colab": {
          "base_uri": "https://localhost:8080/"
        },
        "id": "t-NvcROV1-99",
        "outputId": "3883079f-1c31-4ee8-c55d-4f6c970124b3"
      },
      "execution_count": 35,
      "outputs": [
        {
          "output_type": "stream",
          "name": "stdout",
          "text": [
            "[0, 1, 1, 2, 3, 5, 8, 13, 21, 34, 55, 89, 144, 233, 377]\n",
            "[0, 1, 4, 9, 16, 25, 36, 49, 64, 81]\n"
          ]
        }
      ]
    },
    {
      "cell_type": "code",
      "source": [
        "A = [[1,2],[3,4]]\n",
        "print(A)\n",
        "# MATRIX with 2 lines, the first list is the first row, the second list is the second"
      ],
      "metadata": {
        "colab": {
          "base_uri": "https://localhost:8080/"
        },
        "id": "qzy9bc7y3J4C",
        "outputId": "f91cda5a-db7c-4221-fb1a-f1ccca62e906"
      },
      "execution_count": 36,
      "outputs": [
        {
          "output_type": "stream",
          "name": "stdout",
          "text": [
            "[[1, 2], [3, 4]]\n"
          ]
        }
      ]
    },
    {
      "cell_type": "code",
      "source": [
        "A = [[1/(1+j+i) for j in range(3)] for i in range(3)]\n",
        "print(A)"
      ],
      "metadata": {
        "colab": {
          "base_uri": "https://localhost:8080/"
        },
        "id": "q22xN5P23ZVS",
        "outputId": "69061769-884c-496f-9050-df33044a0c64"
      },
      "execution_count": 39,
      "outputs": [
        {
          "output_type": "stream",
          "name": "stdout",
          "text": [
            "[[1.0, 0.5, 0.3333333333333333], [0.5, 0.3333333333333333, 0.25], [0.3333333333333333, 0.25, 0.2]]\n"
          ]
        }
      ]
    },
    {
      "cell_type": "markdown",
      "source": [
        "Computation of PI using Monte carlo Method\n",
        "skills.\n",
        "* += (and similar) operator\n",
        "* introduction of numpy arrays\n",
        "* append element to a list and list concatenation\n",
        "* introduction of Matplotlib\n",
        "\n",
        "Problem. Let us pick N random points in a 2D plane within a square of side 2 centered in (0,0). Imagine a circle described into the square: the idea is to use the ratio of number points that lie inside the circle"
      ],
      "metadata": {
        "id": "M_ml5mBN5jmH"
      }
    },
    {
      "cell_type": "code",
      "source": [
        "import math as mat\n",
        "import random\n",
        "\n",
        "# N is the total number of points we want to generate\n",
        "\n",
        "def compute_pi_with_mc_method(N):\n",
        "  circle_points = 0\n",
        "  square_points = 0\n",
        "\n",
        "  for i in range(N):\n",
        "    # generate a random point\n",
        "    rand_x = random.uniform(-1,1)\n",
        "    rand_y = random.uniform(-1,1)\n",
        "\n",
        "    #compute distance of the point from origin\n",
        "    dist = mat.sqrt(rand_x**2 + rand_y**2)\n",
        "\n",
        "    if dist <= 1:\n",
        "      circle_points += 1\n",
        "    square_points += 1\n",
        "\n",
        "  pi_est = 4.0 * circle_points / square_points\n",
        "  return pi_est\n",
        "\n",
        "\n",
        "import numpy as np\n",
        "\n",
        "def pi_with_numpy(N):\n",
        "  circle_points = 0\n",
        "  square_points = 0\n",
        "  x_in = []\n",
        "  y_in = []\n",
        "  x_out = []\n",
        "  y_out = []\n",
        "  vec_pi_est = np.empty([N])\n",
        "\n",
        "  for i in range(N):\n",
        "    # generate a random point\n",
        "    rand_x = random.uniform(-1,1)\n",
        "    rand_y = random.uniform(-1,1)\n",
        "\n",
        "    #compute distance of the point from origin\n",
        "    dist = mat.sqrt(rand_x**2 + rand_y**2)\n",
        "\n",
        "    if dist <= 1:\n",
        "      circle_points += 1\n",
        "      x_in = x_in + [rand_x]\n",
        "      y_in = y_in + [rand_y]\n",
        "    else:\n",
        "      x_out.append(rand_x)\n",
        "      y_out.append(rand_y)\n",
        "\n",
        "    square_points += 1\n",
        "\n",
        "  pi_est = 4.0 * circle_points / square_points\n",
        "  vec_pi_est[i] = pi_est\n",
        "  return pi_est, x_in, y_in,x_out,y_out,vec_pi_est\n",
        "\n",
        "\n",
        "#print(pi_with_numpy(10000))\n",
        "#pi_est, x_in, y_in,x_out,y_out,vec_pi_est = pi_with_numpy(100)\n",
        "\n",
        "g = np.linspace(0,10,20)\n",
        "g"
      ],
      "metadata": {
        "colab": {
          "base_uri": "https://localhost:8080/"
        },
        "id": "_A_p3Two5iar",
        "outputId": "d0c9d0ad-6767-48d4-d9c7-b47fa1711109"
      },
      "execution_count": 52,
      "outputs": [
        {
          "output_type": "execute_result",
          "data": {
            "text/plain": [
              "array([ 0.        ,  0.52631579,  1.05263158,  1.57894737,  2.10526316,\n",
              "        2.63157895,  3.15789474,  3.68421053,  4.21052632,  4.73684211,\n",
              "        5.26315789,  5.78947368,  6.31578947,  6.84210526,  7.36842105,\n",
              "        7.89473684,  8.42105263,  8.94736842,  9.47368421, 10.        ])"
            ]
          },
          "metadata": {},
          "execution_count": 52
        }
      ]
    },
    {
      "cell_type": "code",
      "source": [],
      "metadata": {
        "id": "ZKPTT-ua-J87"
      },
      "execution_count": null,
      "outputs": []
    }
  ]
}