{
 "cells": [
  {
   "cell_type": "markdown",
   "metadata": {},
   "source": [
    "### GD"
   ]
  },
  {
   "cell_type": "markdown",
   "metadata": {},
   "source": [
    "The Gradient Descent is an iterative optimization technique, usually applied in ML setting, to minimize a function, which is usualy a cost function (such as MSE) by adjusting some parameters of the function\n",
    "\n",
    "The optimization is performed by correcting the position of the current solution in the hyper-space of parameters by moving in the opposite direction of the gradient of the cost or MSE function, which is the direction of the maximum change of the function (this is way we move in the opposite direction of the gradient).\n",
    "\n",
    "The step size in the opposite gradient direction is controlled by an hyperparameter, which is called learning rate, and it controls the magnitude of the upate. The learning rate is of paramount importance in order to ensure the convergence of the method.\n",
    "\n",
    "This iterative approach is performed until a stopping criterion is met (either a maximum number of steps, or if a desired tolerance is met either of the residuals or between consecutive steps)"
   ]
  },
  {
   "cell_type": "markdown",
   "metadata": {},
   "source": [
    "The update rule is:\n",
    "$$\n",
    "\\theta_{t+1} = \\theta_t - \\eta \\nabla L(\\theta_t)\n",
    "$$\n",
    "where:\n",
    "- $\\theta_t$: Parameters at iteration $t$,\n",
    "- $\\eta$: Learning rate (step size),\n",
    "- $\\nabla L(\\theta_t)$: Gradient of the loss function $L$ with respect to $\\theta_t$."
   ]
  },
  {
   "cell_type": "markdown",
   "metadata": {},
   "source": [
    "The classical GD method is an iterative optimization (minimization/maximization) method that uses the gradient of the function as the direction (for maximization problems, the opposite direction for minimization ones) toward which to update the approximate solution: the gradient is computed by approximating its value by using the whole dataset available at each step"
   ]
  },
  {
   "cell_type": "markdown",
   "metadata": {},
   "source": [
    "---"
   ]
  },
  {
   "cell_type": "code",
   "execution_count": 1,
   "metadata": {},
   "outputs": [],
   "source": [
    "import numpy as np\n",
    "import jax\n",
    "import jax.numpy as jnp"
   ]
  },
  {
   "cell_type": "markdown",
   "metadata": {},
   "source": [
    "### GD STEPS"
   ]
  },
  {
   "cell_type": "markdown",
   "metadata": {},
   "source": [
    "1. Initialize parameters"
   ]
  },
  {
   "cell_type": "code",
   "execution_count": 4,
   "metadata": {},
   "outputs": [
    {
     "data": {
      "text/plain": [
       "array([1.76405235, 0.40015721])"
      ]
     },
     "execution_count": 4,
     "metadata": {},
     "output_type": "execute_result"
    }
   ],
   "source": [
    "# array with random gaussian initialization\n",
    "def initialize_params(dim =2):\n",
    "    np.random.seed(0)\n",
    "    return np.random.randn(2)\n",
    "initialize_params()"
   ]
  },
  {
   "cell_type": "markdown",
   "metadata": {},
   "source": [
    "2. Define Loss Function and Gradient computation of the loss"
   ]
  },
  {
   "cell_type": "code",
   "execution_count": 3,
   "metadata": {},
   "outputs": [
    {
     "data": {
      "text/plain": [
       "' \\ny: target\\nx: input \\nparams: learned parameters by the model\\nthe model y_hat = X @ params is of course made by the params found\\nWe compute the loss wrt the params found\\n'"
      ]
     },
     "execution_count": 3,
     "metadata": {},
     "output_type": "execute_result"
    }
   ],
   "source": [
    "def MSE(x,y,params):\n",
    "    return jnp.sqrt(jnp.sum(jnp.square(y - x @ params)))\n",
    "''' \n",
    "y: target\n",
    "x: input \n",
    "params: learned parameters by the model\n",
    "the model y_hat = X @ params is of course made by the params found\n",
    "We compute the loss wrt the params found\n",
    "'''\n",
    "\n",
    "\n",
    "grad_jit = jax.jit(jax.grad(MSE, argnums=2)) # inform jax to compute grad wrt parameters\n",
    "''' \n",
    "it will be useful when we need to compute the gradient of the loss function\n",
    "at each epoch of the gradient descent itertive method\n",
    "'''\n",
    "MSE_jit = jax.jit(MSE) # just a compile option to speed up computatio"
   ]
  },
  {
   "cell_type": "markdown",
   "metadata": {},
   "source": [
    "3. Select Hyperparameters"
   ]
  },
  {
   "cell_type": "code",
   "execution_count": null,
   "metadata": {},
   "outputs": [],
   "source": [
    "max_epochs = 5000\n",
    "learning_rate = 0.01\n"
   ]
  },
  {
   "cell_type": "markdown",
   "metadata": {},
   "source": [
    "4. Iterative Loop"
   ]
  },
  {
   "cell_type": "markdown",
   "metadata": {},
   "source": [
    "```python\n",
    "for epoch in range(max_epochs):\n",
    "    grads = grad_jit(X, y, params)\n",
    "    params -= learning_rate * grads"
   ]
  },
  {
   "cell_type": "code",
   "execution_count": 1,
   "metadata": {},
   "outputs": [],
   "source": [
    "def gradient_descent(grad_func, x0, lr=0.01, tol=1e-6, max_iter=1000):\n",
    "    x = x0\n",
    "    path = [x]  # for visualization purposes only\n",
    "    for _ in range(max_iter):\n",
    "        grad_val = grad_func(x)\n",
    "        x = x - lr * grad_val\n",
    "        path.append(x)\n",
    "        if jnp.linalg.norm(f(x) - f(prev_x)) < eps:\n",
    "            break\n",
    "    return x, path\n",
    "\n",
    "def gradient_descent(grad_func, init_params, lr=0.01, tol=1e-6, max_iter=1000):\n",
    "    params = init_params\n",
    "    path = [params]  # for visualization purposes only\n",
    "    for _ in range(max_iter):\n",
    "        grad_val = grad_func(params)\n",
    "        params = params - lr * grad_val\n",
    "        path.append(params)\n",
    "        if jnp.linalg.norm(f(params) - f(params)) < eps:\n",
    "            break\n",
    "    return params, path"
   ]
  },
  {
   "cell_type": "markdown",
   "metadata": {},
   "source": [
    "---"
   ]
  },
  {
   "cell_type": "markdown",
   "metadata": {},
   "source": [
    "### Gradient Descent with Backtracking Line Search\n",
    "\n",
    "Backtracking line search modifies the learning rate $ \\eta $ to ensure sufficient decrease.\n",
    "\n",
    "The key idea is to start with an initial step size and iteratively reduce it until a sufficient decrease condition is met. Specifically, the backtracking process adjusts the step size tt based on the Armijo condition:\n",
    "\n",
    "$$\n",
    "f(x - t \\nabla f(x)) \\leq f(x) - \\alpha t \\|\\nabla f(x)\\|^2\n",
    "$$\n",
    "\n",
    "where:\n",
    "\n",
    "- $ f(x) $ is the objective function,\n",
    "- $ \\nabla f(x) $ is the gradient of $ f $ at $ x $,\n",
    "- $ t $ is the step size (or learning rate) that we are adapting,\n",
    "- $ \\alpha \\in (0, 0.5) $ is a parameter controlling the required decrease,\n",
    "- $ \\|\\nabla f(x)\\|^2 $ represents the squared norm of the gradient, quantifying how steep the descent is at $ x $.\n",
    "\n",
    "The algorithm typically starts with an initial step size $ t = 1 $ and iteratively reduces it by multiplying it with a factor $ \\beta \\in (0, 1) $ (often $ \\beta = 0.8 $), until the sufficient decrease condition is satisfied. The process can be summarized as follows:\n",
    "\n",
    "1. **Initialize** $ t = 1 $.\n",
    "2. **While** $ f(x - t \\nabla f(x)) > f(x) - \\alpha t \\|\\nabla f(x)\\|^2 $:\n",
    "   - Update $ t = \\beta t $.\n",
    "3. **Return** the adjusted step size $ t $.\n"
   ]
  },
  {
   "cell_type": "code",
   "execution_count": 7,
   "metadata": {},
   "outputs": [],
   "source": [
    "def gradient_descent_backtracking(\n",
    "    func, grad_func, x0, alpha=0.3, beta=0.8, tol=1e-6, max_iter=100\n",
    "):\n",
    "    x = x0\n",
    "    path = [x]  # for visualization purposes only\n",
    "    for _ in range(max_iter):\n",
    "        grad_val = grad_func(x)\n",
    "        t = 1.0\n",
    "        # Backtracking loop\n",
    "        while func(x - t * grad_val) > func(x) - alpha * t * jnp.dot(\n",
    "            grad_val, grad_val\n",
    "        ):\n",
    "            t *= beta\n",
    "        x = x - t * grad_val\n",
    "        path.append(x)\n",
    "        if jnp.linalg.norm(grad_val) < tol:\n",
    "            break\n",
    "    return x, path"
   ]
  },
  {
   "cell_type": "markdown",
   "metadata": {},
   "source": [
    "---"
   ]
  },
  {
   "cell_type": "markdown",
   "metadata": {},
   "source": [
    "### Exact Line Search for Quadratic Function\n",
    "\n",
    "Exact line search minimizes the quadratic function\n",
    "$$f(\\boldsymbol x) = \\frac{1}{2} \\boldsymbol x^T A \\boldsymbol x + \\boldsymbol b^T \\boldsymbol x + c $$\n",
    "in each iteration by solving for the optimal step size $ t^* $ as:\n",
    "\n",
    "$$\n",
    "t^* = \\frac{\\nabla f(\\boldsymbol x)^T \\nabla f(\\boldsymbol x)}{\\nabla f(\\boldsymbol x)^T A \\nabla f(\\boldsymbol x)}\n",
    "$$\n",
    "\n",
    "Indeed, at iteration $k$, we want to minimize the (univariate) function $g$\n",
    "\n",
    "\\begin{align*}\n",
    "g(t) = f\\big(\\boldsymbol x^k + t \\boldsymbol s^{k}\\big) = \\frac12 \\big(\\boldsymbol x^k + t \\boldsymbol s^{k}\\big)^T A \\big(\\boldsymbol x^k + t \\boldsymbol s^{k}\\big) + \\boldsymbol b^T \\big(\\boldsymbol x^k + t \\boldsymbol s^{k}\\big) + c\\\\\n",
    "= \\frac12 \\big(\\boldsymbol x^k\\big)^T A \\boldsymbol x^k + \\frac12 t ^2 \\big(\\boldsymbol s^{k}\\big)^T A \\boldsymbol s^{k} + t \\big( \\boldsymbol s^k \\big)^T A \\boldsymbol x^{k} + \\boldsymbol b^T \\boldsymbol x^k + t \\boldsymbol b^T \\boldsymbol s^{k} + c \\\\\n",
    "= f\\big(\\boldsymbol x^k \\big) + \\frac12 t ^2 \\big(\\boldsymbol s^{k}\\big)^T A \\boldsymbol s^{k}+ t \\big( \\boldsymbol s^k \\big)^T A \\boldsymbol x^{k} + t \\big( \\boldsymbol s^{k}\\big)^T \\boldsymbol b\\\\\n",
    "= f\\big(\\boldsymbol x^k \\big) + \\frac12 t ^2 \\big(\\boldsymbol s^{k}\\big)^T A \\boldsymbol s^{k}+ t \\big( \\boldsymbol s^k \\big)^T \\Big[A \\boldsymbol x^{k} + \\boldsymbol b\\Big]\n",
    "\\end{align*}\n",
    "\n",
    "where $\\boldsymbol s^k = -\\nabla f(\\boldsymbol x^k)$. Performing the derivative, we have\n",
    "\n",
    "$$g'(t) = t \\big(\\boldsymbol s^{k}\\big)^T A \\boldsymbol s^{k} + \\big( \\boldsymbol s^k  \\big)^T \\Big[A \\boldsymbol x^{k} + \\boldsymbol b\\Big]$$\n",
    "\n",
    "But, by definition of $f$\n",
    "\n",
    "$$\\nabla f(\\boldsymbol x^k) = A \\boldsymbol x^k + \\boldsymbol b$$\n",
    "\n",
    "Thus,\n",
    "\n",
    "$$g'(t) = t \\big(\\boldsymbol s^{k}\\big)^T A \\boldsymbol s^{k} + \\big( \\boldsymbol s^k  \\big)^T \\nabla f(\\boldsymbol x^k)$$\n",
    "\n",
    "By setting $g'(t^*) = 0$ we have\n",
    "\n",
    "$$t^* = \\frac{\\nabla f(\\boldsymbol x^k)^T \\nabla f(\\boldsymbol x^k)}{\\nabla f(\\boldsymbol x^k)^T A \\nabla f(\\boldsymbol x^k)}$$\n"
   ]
  },
  {
   "cell_type": "code",
   "execution_count": 8,
   "metadata": {},
   "outputs": [],
   "source": [
    "def exact_line_search_quadratic(A, b, x0, tol=1e-6, max_iter=100):\n",
    "    x = x0\n",
    "    path = [x]  # for visualization purposes only\n",
    "    for _ in range(max_iter):\n",
    "        grad_val = jnp.dot(A, x) + b\n",
    "        t = jnp.dot(grad_val, grad_val) / jnp.dot(grad_val, jnp.dot(A, grad_val))\n",
    "        x -= t * grad_val\n",
    "        path.append(x)\n",
    "        if jnp.linalg.norm(grad_val) < tol:\n",
    "            break\n",
    "    return x, path"
   ]
  },
  {
   "cell_type": "markdown",
   "metadata": {},
   "source": [
    "---"
   ]
  },
  {
   "cell_type": "markdown",
   "metadata": {},
   "source": [
    "### Gradient Descent with Momentum"
   ]
  },
  {
   "cell_type": "markdown",
   "metadata": {},
   "source": [
    "   $$\n",
    "   \\mathbf{z}^{k+1} = \\beta \\mathbf{z}^k + \\nabla f(\\mathbf{x}^k),\n",
    "   \\tag{4}\n",
    "   $$\n",
    "   $$\n",
    "   \\mathbf{x}^{k+1} = \\mathbf{x}^k - \\alpha \\mathbf{z}^{k+1},\n",
    "   \\tag{5}\n",
    "   $$\n",
    "\n",
    "   where $\\alpha$ is the learning rate and $\\beta$ is the momentum coefficient. Use the same stopping criterion used in the GD method."
   ]
  },
  {
   "cell_type": "code",
   "execution_count": 2,
   "metadata": {},
   "outputs": [],
   "source": [
    "def gradient_descent_with_momentum(grad_func, x, lr=0.01, beta = 0.9, eps=1e-6, max_iter=200):\n",
    "    x = x\n",
    "    path = [x]  # for visualization purposes only\n",
    "    velocity = [0.0 in range(len(x))]\n",
    "    for _ in range(max_iter):\n",
    "        grad_val = grad_func(x)\n",
    "        prev_x = x\n",
    "        velocity = beta*x + grad_val\n",
    "        x = x - lr * velocity\n",
    "        path.append(x)\n",
    "        if jnp.linalg.norm(f(x) - f(prev_x)) < eps:\n",
    "            break\n",
    "    return x, path\n"
   ]
  },
  {
   "cell_type": "markdown",
   "metadata": {},
   "source": [
    "---"
   ]
  },
  {
   "cell_type": "markdown",
   "metadata": {},
   "source": [
    "### SGD"
   ]
  },
  {
   "cell_type": "markdown",
   "metadata": {},
   "source": [
    "The Stochastic Gradient Descent (SGD) has been introduced to speed up the computation of the gradient of the cost/MSE function, by computing it only on a random subset of the samples, called mini-batch, instead of computing in on the whole dataset.\n",
    "\n",
    "There are many ways to choose the subset of samples: only sample can be used, or a minibatch of the whole set (SGD with minibatch)"
   ]
  },
  {
   "cell_type": "markdown",
   "metadata": {},
   "source": [
    "In Stochastic Gradient Descent (SGD), we update the parameters using the gradient computed on a random mini-batch of the data. This allows for faster convergence compared to using the full dataset at each iteration.\n",
    "\n",
    "We will define a function to perform a single update step of SGD."
   ]
  },
  {
   "cell_type": "markdown",
   "metadata": {},
   "source": [
    "```python\n",
    "# Stochastic Gradient Descent (SGD) update step\n",
    "@jax.jit\n",
    "def sgd_update(theta, x_batch, y_batch, learning_rate):\n",
    "    grads = grad_mse_loss(theta, x_batch, y_batch)\n",
    "    return theta - learning_rate * grads"
   ]
  },
  {
   "cell_type": "markdown",
   "metadata": {},
   "source": [
    "\n",
    "```python\n",
    "# Stochastic Gradient Descent with mini-batches\n",
    "def stochastic_gradient_descent(\n",
    "    theta,\n",
    "    training_input,\n",
    "    training_labels,\n",
    "    validation_input,\n",
    "    validation_labels,\n",
    "    learning_rate=0.01,\n",
    "    epochs=100,\n",
    "    batch_size=10,\n",
    "    state=0,\n",
    "):\n",
    "    key = jax.random.PRNGKey(state)\n",
    "    # Iterate over the number of epochs\n",
    "    for epoch in range(epochs):\n",
    "        # Shuffle data indices using JAX's random key\n",
    "        key, subkey = jax.random.split(key)\n",
    "        perm = jax.random.permutation(subkey, len(training_input))\n",
    "        # Process data in mini-batches\n",
    "        for i in range(0, len(training_input), batch_size):\n",
    "            batch_idx = perm[i : i + batch_size]\n",
    "            x_batch = training_input[batch_idx]\n",
    "            y_batch = training_labels[batch_idx]\n",
    "            # Perform SGD update\n",
    "            theta = sgd_update(theta, x_batch, y_batch, learning_rate)\n",
    "        # Print the loss every 10 epochs\n",
    "        if epoch % 10 == 0:\n",
    "            loss = mse_loss(theta, validation_input, validation_labels)\n",
    "            print(f\"Epoch {epoch}, Loss: {loss:.4f}\")\n",
    "    return theta"
   ]
  },
  {
   "cell_type": "code",
   "execution_count": null,
   "metadata": {},
   "outputs": [],
   "source": []
  },
  {
   "cell_type": "markdown",
   "metadata": {},
   "source": []
  },
  {
   "cell_type": "markdown",
   "metadata": {},
   "source": [
    "---"
   ]
  },
  {
   "cell_type": "markdown",
   "metadata": {},
   "source": [
    "## Perceptron\n",
    "\n",
    "The **perceptron** is an algorithm for online supervised learning of binary classifiers. The algorithm tries to find a threshold function: a function that maps its input $\\mathbf{x}$ (a real-valued vector) to an output value:\n",
    "\n",
    "$$\n",
    "y(\\mathbf{x}) = f(\\mathbf{w}^T \\Phi(\\mathbf{x})), \\quad \\text{where}\n",
    "$$\n",
    "\n",
    "$$\n",
    "f(a) =\n",
    "\\begin{cases} \n",
    "+1, & \\text{if } a \\geq 0, \\\\\n",
    "-1, & \\text{if } a < 0\n",
    "\\end{cases}\n",
    "$$\n",
    "\n",
    "Target values are $+1$ for $C_1$ and $-1$ for $C_2$. The algorithm finds the separating hyperplane by minimizing the distance of misclassified points to the decision boundary. Our objective is to find a parameter vector $\\mathbf{w}$ such that:\n",
    "\n",
    "$$\n",
    "\\mathbf{w}^T \\Phi(\\mathbf{x}_n) \\geq 0 \\quad \\text{when } \\mathbf{x}_n \\in C_1,\n",
    "$$\n",
    "\n",
    "$$\n",
    "\\mathbf{w}^T \\Phi(\\mathbf{x}_n) < 0 \\quad \\text{when } \\mathbf{x}_n \\in C_2.\n",
    "$$\n",
    "\n",
    "\n",
    "### Error Function\n",
    "\n",
    "We define an error function as follows:\n",
    "\n",
    "$$\n",
    "\\epsilon_p(\\mathbf{w}, \\mathbf{x}_n) =\n",
    "\\begin{cases} \n",
    "0, & \\text{if } \\mathbf{x} \\text{ is classified correctly}, \\\\\n",
    "\\mathbf{w}^T \\Phi(\\mathbf{x}_n) t_n, & \\text{if } \\mathbf{x} \\text{ is not classified correctly (proportional to boundary distance)}.\n",
    "\\end{cases}\n",
    "$$\n",
    "\n",
    "Now we define an error function for parameter optimization:\n",
    "\n",
    "$$\n",
    "L_P(\\mathbf{w}) = - \\sum_{n \\in M} \\mathbf{w}^T \\Phi(\\mathbf{x}_n) t_n\n",
    "$$\n",
    "\n",
    "\n",
    "### Stochastic Gradient Descent (Online)\n",
    "\n",
    "To perform minimization, we use stochastic gradient descent:\n",
    "\n",
    "$$\n",
    "\\mathbf{w}^{(k+1)} = \\mathbf{w}^{(k)} - \\alpha \\nabla L_P(\\mathbf{w}) = \\mathbf{w}^{(k)} + \\alpha \\Phi(\\mathbf{x}_n) t_n\n",
    "\\tag{37}\n",
    "$$\n",
    "\n",
    "\n",
    "### Notes\n",
    "\n",
    "**Loss Sign**:  \n",
    "We have a minus sign in the loss function because $\\mathbf{w}^T \\Phi(\\mathbf{x}_n) t_n$ will always be negative. This is due to the fact that if $\\mathbf{w}^T \\Phi(\\mathbf{x}_n)$ is misclassified, then it will have an opposite sign compared to $t_n$.\n",
    "\n",
    "**Learning Rate**:  \n",
    "The learning rate $\\alpha$ can be set to 1 because it doesn’t change the direction of $\\mathbf{w}$. We assume that $\\mathbf{w}$ starts from the origin, so a scaling of the vector doesn’t affect the boundary definition.\n"
   ]
  },
  {
   "cell_type": "code",
   "execution_count": 1,
   "metadata": {},
   "outputs": [
    {
     "name": "stdout",
     "output_type": "stream",
     "text": [
      "Learned weights: [ 0.52 -0.72 -0.4 ]\n",
      "Errors in each epoch: [2, 4, 3, 2, 1, 0]\n"
     ]
    },
    {
     "data": {
      "image/png": "[encoded data removed]",
      "text/plain": [
       "<Figure size 640x480 with 1 Axes>"
      ]
     },
     "metadata": {},
     "output_type": "display_data"
    }
   ],
   "source": [
    "import numpy as np\n",
    "\n",
    "def perceptron(X, Y, learning_rate=0.1, n_iter=1000):\n",
    "    \"\"\"\n",
    "    Implements the perceptron algorithm.\n",
    "    \n",
    "    Parameters:\n",
    "    - X: ndarray of shape (n_samples, n_features), input features.\n",
    "    - Y: ndarray of shape (n_samples,), target labels (must be -1 or 1).\n",
    "    - learning_rate: float, the step size for weight updates.\n",
    "    - n_iter: int, maximum number of iterations.\n",
    "    \n",
    "    Returns:\n",
    "    - weights: ndarray of shape (n_features,), learned weight vector.\n",
    "    - errors: list, number of misclassifications in each epoch.\n",
    "    \"\"\"\n",
    "    # Initialize weights and errors\n",
    "    n_samples, n_features = X.shape\n",
    "    weights = np.zeros(n_features)\n",
    "    errors = []\n",
    "    \n",
    "    for iteration in range(n_iter):\n",
    "        total_errors = 0\n",
    "        \n",
    "        # Iterate through each sample\n",
    "        for idx in range(n_samples):\n",
    "            # Calculate the predicted output\n",
    "            prediction = step_activation(np.dot(X[idx], weights))\n",
    "            \n",
    "            # Update weights if prediction is incorrect\n",
    "            update = learning_rate * (Y[idx] - prediction)\n",
    "            if update != 0:\n",
    "                weights += update * X[idx]\n",
    "                total_errors += 1\n",
    "        \n",
    "        # Record the number of misclassifications\n",
    "        errors.append(total_errors)\n",
    "        \n",
    "        # Stop early if there are no errors\n",
    "        if total_errors == 0:\n",
    "            break\n",
    "    \n",
    "    return weights, errors\n",
    "\n",
    "def step_activation(value):\n",
    "    return 1 if value >= 0 else -1\n",
    "\n",
    "# Example usage\n",
    "if __name__ == \"__main__\":\n",
    "    # Define a toy dataset\n",
    "    X = np.array([[2, -1], [-1, 1], [2, 0.5], [0.2, -0.2], [0.5, -1], [2, 1]])\n",
    "    Y = np.array([1, -1, 1, -1, 1, -1])  # Target labels (-1 or 1)\n",
    "    \n",
    "    # Add bias as the last feature\n",
    "    X = np.hstack([X, np.ones((X.shape[0], 1))])  # Add a column of ones for bias\n",
    "\n",
    "    # Train the perceptron\n",
    "    learning_rate = 0.1\n",
    "    n_iter = 1000\n",
    "    weights, errors = perceptron(X, Y, learning_rate, n_iter)\n",
    "    \n",
    "    print(\"Learned weights:\", weights)\n",
    "    print(\"Errors in each epoch:\", errors)\n",
    "    \n",
    "    # Visualize the decision boundary\n",
    "    import matplotlib.pyplot as plt\n",
    "    for i, label in enumerate(Y):\n",
    "        color = 'red' if label == 1 else 'blue'\n",
    "        plt.scatter(X[i, 0], X[i, 1], color=color)\n",
    "    \n",
    "    # Plot the decision boundary\n",
    "    x_vals = np.linspace(-2, 3, 100)\n",
    "    decision_boundary = -(weights[0] * x_vals + weights[-1]) / weights[1]\n",
    "    plt.plot(x_vals, decision_boundary, 'k--', label=\"Decision Boundary\")\n",
    "    \n",
    "    plt.xlabel(\"Feature 1\")\n",
    "    plt.ylabel(\"Feature 2\")\n",
    "    plt.legend()\n",
    "    plt.title(\"Perceptron Decision Boundary\")\n",
    "    plt.show()\n"
   ]
  },
  {
   "cell_type": "markdown",
   "metadata": {},
   "source": [
    "---"
   ]
  },
  {
   "cell_type": "markdown",
   "metadata": {},
   "source": [
    "### Quadratic Form"
   ]
  },
  {
   "cell_type": "markdown",
   "metadata": {},
   "source": [
    "$$\n",
    "f(\\mathbf{x}) = \\frac{1}{2} \\mathbf{x}^T H \\mathbf{x} + \\mathbf{d}^T \\mathbf{x} + c. \\tag{2}\n",
    "$$\n",
    "\n",
    "Write explicitly the expressions for the matrix $H$, the vector $\\mathbf{d}$, and the constant $c$. What is $H$?\n",
    "\n",
    "- Decompose $f(\\mathbf{x})$ into quadratic, linear, and constant terms to identify $H$, $\\mathbf{d}$, and $c$:\n",
    "  - $H$: The Hessian matrix of second-order partial derivatives.\n",
    "  - $\\mathbf{d}$: The gradient vector of linear terms.\n",
    "  - $c$: Constant term.\n",
    "\n",
    "\n",
    "**REMEMBER** Hessian is constant!!"
   ]
  },
  {
   "cell_type": "code",
   "execution_count": 3,
   "metadata": {},
   "outputs": [],
   "source": [
    "import numpy as np\n",
    "\n",
    "def f(x):\n",
    "    x,y = x\n",
    "    return 5*x**2 - 6*x*y + 5*y**2 + 4*x + 4*y\n",
    "\n",
    "grad_x = lambda x,y: 10*x -6*y + 4\n",
    "grad_y = lambda x,y: 10*y - 6*x + 4\n",
    "\n",
    "gradx_grady = -6\n",
    "grady_gradx = -6\n",
    "grad_grad_x = 10\n",
    "grad_grad_y = 10\n",
    "\n",
    "d = np.array([4,4])\n",
    "\n",
    "c = 0\n",
    "\n",
    "H = np.array([[grad_grad_x, gradx_grady],\n",
    "                    [grady_gradx, grad_grad_y]])\n",
    "def quadratic_f(x):\n",
    "    return 0.5 * x.T @ H @ x + d.T @ x + c"
   ]
  },
  {
   "cell_type": "markdown",
   "metadata": {},
   "source": [
    "---"
   ]
  },
  {
   "cell_type": "markdown",
   "metadata": {},
   "source": [
    "### Data Generation"
   ]
  },
  {
   "cell_type": "code",
   "execution_count": 5,
   "metadata": {},
   "outputs": [
    {
     "name": "stdout",
     "output_type": "stream",
     "text": [
      "X: [0.5488135  0.71518937 0.60276338 0.54488318 0.4236548 ]\n",
      "Y: [ 0.70117561 -0.81575505  0.32237756  0.69148922  0.72285129]\n"
     ]
    }
   ],
   "source": [
    "import numpy as np\n",
    "\n",
    "def get_training_data_normal_error(f, a, b, n_samples, noise_mean, noise_std, seed=None):\n",
    "    if seed is not None:\n",
    "        np.random.seed(seed)  # For reproducibility\n",
    "    \n",
    "    # Generate random x values within the range [a, b]\n",
    "    x = np.random.uniform(a, b, n_samples)\n",
    "    \n",
    "    # Generate noise from a normal distribution\n",
    "    eps = np.random.normal(loc=noise_mean, scale=noise_std, size=n_samples)\n",
    "    \n",
    "    # Compute y-values with added noise\n",
    "    y = f(x) + eps\n",
    "    \n",
    "    return x, y\n",
    "\n",
    "# Example usage:\n",
    "f = lambda x: np.cos(4 * np.pi * x)\n",
    "a, b = 0, 1\n",
    "n_samples = 100\n",
    "noise_mean, noise_std = 0, 0.1\n",
    "\n",
    "# Generate data\n",
    "X, Y = get_training_data_normal_error(f, a, b, n_samples, noise_mean, noise_std, seed=0)\n",
    "\n",
    "# Print results\n",
    "print(\"X:\", X[:5])  # First 5 x-values\n",
    "print(\"Y:\", Y[:5])  # First 5 y-values\n"
   ]
  },
  {
   "cell_type": "code",
   "execution_count": 3,
   "metadata": {},
   "outputs": [
    {
     "name": "stdout",
     "output_type": "stream",
     "text": [
      "X: [0.         0.01010101 0.02020202 0.03030303 0.04040404]\n",
      "Y: [1.0195254  1.07803056 1.00905405 0.94632121 0.8433113 ]\n"
     ]
    }
   ],
   "source": [
    "def get_training_data_with_linspace(f, a, b, n_samples, noise_range, seed=None):\n",
    "    if seed is not None:\n",
    "        np.random.seed(seed)  # For reproducibility\n",
    "    \n",
    "    # Generate x values evenly spaced within the range [a, b]\n",
    "    x = np.linspace(a, b, n_samples)\n",
    "    \n",
    "    # Generate random noise within the specified range\n",
    "    min_noise, max_noise = noise_range\n",
    "    eps = np.random.uniform(min_noise, max_noise, n_samples)\n",
    "    \n",
    "    # Compute y-values with added noise\n",
    "    y = f(x) + eps\n",
    "    \n",
    "    return x, y\n",
    "\n",
    "# Example usage:\n",
    "f = lambda x: np.cos(4 * np.pi * x)\n",
    "a, b = 0, 1\n",
    "n_samples = 100\n",
    "noise_range = (-0.2, 0.2)\n",
    "\n",
    "# Generate data\n",
    "X, Y = get_training_data_with_linspace(f, a, b, n_samples, noise_range, seed=0)\n",
    "\n",
    "# Print results\n",
    "print(\"X:\", X[:5])  # First 5 x-values\n",
    "print(\"Y:\", Y[:5])  # First 5 y-values\n"
   ]
  },
  {
   "cell_type": "code",
   "execution_count": 6,
   "metadata": {},
   "outputs": [
    {
     "name": "stdout",
     "output_type": "stream",
     "text": [
      "X: [0.5488135  0.71518937 0.60276338 0.54488318 0.4236548 ]\n",
      "Y: [ 0.88881721 -0.99783451  0.36988893  1.02998901  0.47352732]\n"
     ]
    }
   ],
   "source": [
    "import numpy as np\n",
    "\n",
    "def get_training_data(f, a, b, n_samples, noise_range, seed=None):\n",
    "    if seed is not None:\n",
    "        np.random.seed(seed)  # For reproducibility\n",
    "    \n",
    "    # Generate random x values within the range [a, b]\n",
    "    x = np.random.uniform(a, b, n_samples)\n",
    "    \n",
    "    # Generate random noise within the specified range\n",
    "    min_noise, max_noise = noise_range\n",
    "    eps = np.random.uniform(min_noise, max_noise, n_samples)\n",
    "    \n",
    "    # Compute y-values with added noise\n",
    "    y = f(x) + eps\n",
    "    \n",
    "    return x, y\n",
    "\n",
    "# Example usage:\n",
    "f = lambda x: np.cos(4 * np.pi * x)\n",
    "a, b = 0, 1\n",
    "n_samples = 100\n",
    "noise_range = (-0.2, 0.2)\n",
    "\n",
    "# Generate data\n",
    "X, Y = get_training_data(f, a, b, n_samples, noise_range, seed=0)\n",
    "\n",
    "# Print results\n",
    "print(\"X:\", X[:5])  # First 5 x-values\n",
    "print(\"Y:\", Y[:5])  # First 5 y-values\n"
   ]
  },
  {
   "cell_type": "code",
   "execution_count": 7,
   "metadata": {},
   "outputs": [
    {
     "data": {
      "image/png": "[encoded data removed]",
      "text/plain": [
       "<Figure size 1000x600 with 1 Axes>"
      ]
     },
     "metadata": {},
     "output_type": "display_data"
    }
   ],
   "source": [
    "import matplotlib.pyplot as plt\n",
    "import numpy as np\n",
    "\n",
    "def plot_generated_data(x, y, f, a, b, resolution=500, title=\"Generated Data with Noise\"):\n",
    "    # Generate a smooth curve for the original function\n",
    "    x_smooth = np.linspace(a, b, resolution)\n",
    "    y_smooth = f(x_smooth)\n",
    "\n",
    "    plt.figure(figsize=(10, 6))\n",
    "    \n",
    "    # Plot the original function\n",
    "    plt.plot(x_smooth, y_smooth, label=\"Original Function\", color=\"blue\", linewidth=2)\n",
    "    \n",
    "    # Plot the noisy data points\n",
    "    plt.scatter(x, y, label=\"Noisy Data\", color=\"red\", alpha=0.7, s=30)\n",
    "    \n",
    "    # Add labels, legend, and title\n",
    "    plt.xlabel(\"x\")\n",
    "    plt.ylabel(\"y\")\n",
    "    plt.title(title)\n",
    "    plt.legend()\n",
    "    plt.grid(True)\n",
    "    plt.show()\n",
    "\n",
    "# Example usage:\n",
    "# Define the function\n",
    "f = lambda x: np.cos(4 * np.pi * x)\n",
    "\n",
    "# Generate data with noise\n",
    "a, b = 0, 1\n",
    "n_samples = 100\n",
    "noise_range = (-0.2, 0.2)\n",
    "x, y = get_training_data_with_linspace(f, a, b, n_samples, noise_range, seed=0)\n",
    "\n",
    "# Plot the data\n",
    "plot_generated_data(x, y, f, a, b, title=\"Cosine Function with Noise\")\n"
   ]
  },
  {
   "cell_type": "markdown",
   "metadata": {},
   "source": [
    "---"
   ]
  }
 ],
 "metadata": {
  "kernelspec": {
   "display_name": "Python 3",
   "language": "python",
   "name": "python3"
  },
  "language_info": {
   "codemirror_mode": {
    "name": "ipython",
    "version": 3
   },
   "file_extension": ".py",
   "mimetype": "text/x-python",
   "name": "python",
   "nbconvert_exporter": "python",
   "pygments_lexer": "ipython3",
   "version": "3.11.5"
  }
 },
 "nbformat": 4,
 "nbformat_minor": 2
}
