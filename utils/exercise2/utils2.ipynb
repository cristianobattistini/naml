{
 "cells": [
  {
   "cell_type": "code",
   "execution_count": 5,
   "metadata": {},
   "outputs": [],
   "source": [
    "import numpy as np\n",
    "import jax.numpy as jnp\n",
    "import jax\n",
    "import matplotlib.pyplot as pl"
   ]
  },
  {
   "cell_type": "code",
   "execution_count": 7,
   "metadata": {},
   "outputs": [],
   "source": [
    "# Defining the function f(x)\n",
    "def loss_fn(x, y, w):\n",
    "    return #something\n",
    "\n",
    "\n",
    "loss_jit = jax.jit(loss_fn) #ottimizza l'esecuzione della funzione\n",
    "grad_fn = jax.grad(loss_fn, argnums=2) #calcola il gradiente della funzione rispetto ai pesi\n",
    "grad_fn = jax.jit(grad_fn) #ottimizza l'esecuzione della funzione gradiente"
   ]
  },
  {
   "cell_type": "code",
   "execution_count": null,
   "metadata": {},
   "outputs": [],
   "source": [
    "def f(x, y):\n",
    "    return 5*x**2 - 6*x*y + 5*y**2 + 4*x + 4*y\n",
    "\n",
    "def grad_f(x):\n",
    "    gradientx = 10 * x[0] - 6 * x[1] + 4\n",
    "    gradienty = -6 * x[0] + 10 * x[1] + 4\n",
    "    return np.array([gradientx, gradienty])"
   ]
  },
  {
   "cell_type": "code",
   "execution_count": 2,
   "metadata": {},
   "outputs": [],
   "source": [
    "def gradient_descent_for(f, grad_f, x0, learning_rate=0.01, tol=1.0e-3, n_iter=200):\n",
    "    xk = np.array(x0)\n",
    "    convergence_path = list()\n",
    "    convergence_path.append(xk.copy())\n",
    "    \n",
    "    for i in range(n_iter):\n",
    "        grad = grad_f(xk)\n",
    "        xk = xk - learning_rate * grad\n",
    "        if i > 0 and np.abs(f(xk[0], xk[1]) - f(old_xk[0], old_xk[1])) < tol:\n",
    "            break\n",
    "        old_xk = xk.copy()\n",
    "        convergence_path.append(xk.copy())\n",
    "\n",
    "    return xk, convergence_path, i"
   ]
  },
  {
   "cell_type": "code",
   "execution_count": 4,
   "metadata": {},
   "outputs": [],
   "source": [
    "import numpy as np\n",
    "import matplotlib.pyplot as plt\n",
    "\n",
    "def plot_gradient_descent_path(f, path, x_range=(-6, 8), y_range=(-6, 8), title=\"Gradient Descent Convergence Path\"):\n",
    "    \"\"\"\n",
    "    Visualizza il percorso di convergenza della discesa del gradiente.\n",
    "\n",
    "    Parametri:\n",
    "    f (callable): La funzione da minimizzare, deve accettare due variabili (x, y).\n",
    "    path (list of np.array): Una lista contenente i punti visitati dall'algoritmo di discesa del gradiente.\n",
    "    x_range (tuple): Intervallo per l'asse x della griglia (min, max).\n",
    "    y_range (tuple): Intervallo per l'asse y della griglia (min, max).\n",
    "    title (str): Titolo del grafico.\n",
    "\n",
    "    Ritorna:\n",
    "    None. Mostra il grafico del percorso di convergenza.\n",
    "    \"\"\"\n",
    "    # Crea una griglia di valori per x e y\n",
    "    X, Y = np.meshgrid(np.linspace(x_range[0], x_range[1], 100), np.linspace(y_range[0], y_range[1], 100))\n",
    "    \n",
    "    # Calcola i valori della funzione f su tutta la griglia\n",
    "    Z = f(X, Y)\n",
    "    \n",
    "    # Crea un grafico delle linee di livello della funzione\n",
    "    plt.contourf(X, Y, Z, 10, cmap='viridis')  # 10 livelli, usa la mappa di colori 'viridis'\n",
    "    \n",
    "    # Sovrappone il percorso di convergenza\n",
    "    plt.plot([x[0] for x in path], [x[1] for x in path], \"o-\", c=\"r\", label=\"Convergence Path\")\n",
    "    \n",
    "    # Imposta i limiti degli assi\n",
    "    plt.xlim(x_range)\n",
    "    plt.ylim(y_range)\n",
    "    \n",
    "    # Aggiunge un titolo al grafico\n",
    "    plt.title(title)\n",
    "    \n",
    "    # Aggiunge etichette agli assi\n",
    "    plt.xlabel(\"x\")\n",
    "    plt.ylabel(\"y\")\n",
    "    \n",
    "    # Aggiunge una legenda\n",
    "    plt.legend()\n",
    "    \n",
    "    # Mostra il grafico\n",
    "    plt.show()\n",
    "\n",
    "# Esempio di utilizzo\n",
    "# Supponiamo che `f` sia la funzione che desideri minimizzare e `path` il percorso calcolato dall'algoritmo\n",
    "#plot_gradient_descent_path(f, path, title=\"Visualizzazione del Percorso di Discesa del Gradiente\")\n"
   ]
  }
 ],
 "metadata": {
  "kernelspec": {
   "display_name": "Python 3",
   "language": "python",
   "name": "python3"
  },
  "language_info": {
   "codemirror_mode": {
    "name": "ipython",
    "version": 3
   },
   "file_extension": ".py",
   "mimetype": "text/x-python",
   "name": "python",
   "nbconvert_exporter": "python",
   "pygments_lexer": "ipython3",
   "version": "3.11.5"
  }
 },
 "nbformat": 4,
 "nbformat_minor": 2
}
