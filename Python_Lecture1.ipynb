{
  "nbformat": 4,
  "nbformat_minor": 0,
  "metadata": {
    "colab": {
      "provenance": [],
      "toc_visible": true,
      "authorship_tag": "ABX9TyMkpt11lUMdy762/+yBpBEI",
      "include_colab_link": true
    },
    "kernelspec": {
      "name": "python3",
      "display_name": "Python 3"
    },
    "language_info": {
      "name": "python"
    }
  },
  "cells": [
    {
      "cell_type": "markdown",
      "metadata": {
        "id": "view-in-github",
        "colab_type": "text"
      },
      "source": [
        "<a href=\"https://colab.research.google.com/github/cristianobattistini/naml/blob/main/Python_Lecture1.ipynb\" target=\"_parent\"><img src=\"https://colab.research.google.com/assets/colab-badge.svg\" alt=\"Open In Colab\"/></a>"
      ]
    },
    {
      "cell_type": "code",
      "source": [
        "fahrenheit_string = input(\"Enter the temperature in Fahrenheit: \")\n",
        "# Convert the string to number\n",
        "fahreneit = float(fahrenheit_string)\n",
        "#use the converrsion formula to find the celsius value\n",
        "celsius = (fahreneit -32) * 5/9\n",
        "#print the celsius value\n",
        "print(celsius)"
      ],
      "metadata": {
        "colab": {
          "base_uri": "https://localhost:8080/"
        },
        "id": "WRE10XRfyO5C",
        "outputId": "bd7fd78c-ca2e-4156-d87a-b3707e8e68fc"
      },
      "execution_count": null,
      "outputs": [
        {
          "output_type": "stream",
          "name": "stdout",
          "text": [
            "Enter the temperature in Fahrenheit: 24\n",
            "-4.444444444444445\n"
          ]
        }
      ]
    },
    {
      "cell_type": "code",
      "source": [
        "fahrenheit_string = input(\"Enter the temperature in Fahrenheit: \")\n",
        "# Convert the string to number\n",
        "fahreneit = float(fahrenheit_string)\n",
        "#use the conversion formula to find the celsius value\n",
        "celsius = (fahreneit -32) * 5/9\n",
        "#print the celsius value\n",
        "print(celsius)\n",
        "\n",
        "def convert(valueInFahreneit):\n",
        "  f = float(valueInFahreneit)\n",
        "  c = (f -32) * 5/9\n",
        "  return c\n",
        "\n",
        "\n",
        "print(convert(fahrenheit_string))"
      ],
      "metadata": {
        "colab": {
          "base_uri": "https://localhost:8080/"
        },
        "id": "81-7tjARyuNJ",
        "outputId": "ad6d6722-9b72-4e15-b16b-6fb6e8363179"
      },
      "execution_count": null,
      "outputs": [
        {
          "output_type": "stream",
          "name": "stdout",
          "text": [
            "Enter the temperature in Fahrenheit: 68\n",
            "20.0\n",
            "20.0\n"
          ]
        }
      ]
    },
    {
      "cell_type": "code",
      "source": [
        "# NOTE THE INDENTATION!!\n",
        "kelvinInput = input(\"Enter the temperature in kelvin: \")\n",
        "def convertKelvinToFahreneit(kelvinValue):\n",
        "  kelvinCastedValue = float(kelvinValue)\n",
        "  fahreneit = 1.8 * (kelvinCastedValue - 273.15) +32\n",
        "  return fahreneit\n",
        "\n",
        "print(convertKelvinToFahreneit(kelvinInput))\n"
      ],
      "metadata": {
        "colab": {
          "base_uri": "https://localhost:8080/"
        },
        "id": "eBJ60VQDy6kI",
        "outputId": "e578013d-fec3-413e-b82d-b1548b7dbf8e"
      },
      "execution_count": null,
      "outputs": [
        {
          "output_type": "stream",
          "name": "stdout",
          "text": [
            "Enter the temperature in kelvin: 220\n",
            "-63.66999999999996\n"
          ]
        }
      ]
    },
    {
      "cell_type": "code",
      "source": [
        "def vanderwaals(T,V,n,a=1.38e-1,b=31.86e-6):   #last two arguments are called keyword arguments\n",
        "  R = 8.314\n",
        "  p = n * R * T /(V - n * b) - a*n**2/V**2\n",
        "  return p\n",
        "\n",
        "P = vanderwaals(273.15, 0.001, 1)\n",
        "print(P)\n",
        "print(\"{:e}\".format(P))"
      ],
      "metadata": {
        "colab": {
          "base_uri": "https://localhost:8080/"
        },
        "id": "VZCLS1ET0ib8",
        "outputId": "a13a9efb-4054-4531-b2c1-b5d0549890d4"
      },
      "execution_count": null,
      "outputs": [
        {
          "output_type": "stream",
          "name": "stdout",
          "text": [
            "2207703.204082054\n",
            "2.207703e+06\n"
          ]
        }
      ]
    },
    {
      "cell_type": "code",
      "source": [
        "def circle(r):\n",
        "  import math as mt\n",
        "  L = 2 *mt.pi*r\n",
        "  A = mt.pi * r*r\n",
        "  return L,A\n",
        "\n",
        "r = float(input(\"Insert the circle radius: \"))\n",
        "print(circle(r))"
      ],
      "metadata": {
        "id": "MVuViy7n3HeY"
      },
      "execution_count": null,
      "outputs": []
    },
    {
      "cell_type": "code",
      "source": [
        "4"
      ],
      "metadata": {
        "colab": {
          "base_uri": "https://localhost:8080/"
        },
        "id": "f5JNAywp8Fuv",
        "outputId": "1772abd5-23ed-42fa-d593-97f7664a5f9b"
      },
      "execution_count": 16,
      "outputs": [
        {
          "name": "stdout",
          "output_type": "stream",
          "text": [
            "Insert hypotenus: 40\n",
            "Insert angle gamma: 40\n"
          ]
        },
        {
          "output_type": "execute_result",
          "data": {
            "text/plain": [
              "(-12.192424844088666, -38.096519216606254)"
            ]
          },
          "metadata": {},
          "execution_count": 16
        }
      ]
    },
    {
      "cell_type": "code",
      "source": [
        "def compute_edges_by_hypotenus_and_angle_gamma(a,y):\n",
        "  from math import sin, radians, cos\n",
        "  c= a * sin(radians(y))\n",
        "  b = a * cos(radians(y))\n",
        "  return c,b\n",
        "\n",
        "hypotenus = float(input(\"Insert hypotenus: \"))\n",
        "angle_gamma = float(input(\"Insert angle gamma: \"))\n",
        "print(compute_edges_by_hypotenus_and_angle_gamma(hypotenus, angle_gamma))"
      ],
      "metadata": {
        "colab": {
          "base_uri": "https://localhost:8080/"
        },
        "id": "Nm6l3BGG8s2X",
        "outputId": "dc03cb7e-1f0f-496a-e29a-34d66fa09187"
      },
      "execution_count": 20,
      "outputs": [
        {
          "output_type": "stream",
          "name": "stdout",
          "text": [
            "Insert hypotenus: 60\n",
            "Insert angle gamma: 50\n",
            "(45.96266658713868, 38.56725658119236)\n"
          ]
        }
      ]
    },
    {
      "cell_type": "markdown",
      "source": [],
      "metadata": {
        "id": "hx7QQinN9HHT"
      }
    }
  ]
}