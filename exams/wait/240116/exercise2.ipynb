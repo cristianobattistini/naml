{
 "cells": [
  {
   "cell_type": "markdown",
   "metadata": {},
   "source": [
    "## Exercise 2\n",
    "Consider the Ridge regression.\n",
    "\n",
    "1. Write the loss function for the Ridge regression.\n",
    "\n",
    "2. Derive the expression of the solution **w**<sup>\\*</sup> (weight vector) for the Ridge regression.\n",
    "\n",
    "3. Consider the dataset\n",
    "\n",
    "```python\n",
    "np.random.seed(55)\n",
    "x = np.arange(np.pi, 3*np.pi, 0.1)\n",
    "y = np.sin(x) + np.random.normal(0, 0.1, len(x))\n",
    "```\n",
    "\n",
    "and the following values of $\\lambda$ (regularization parameter) $\\lambda = 0, 10^{-32}, 10^{-16}, 10^{-8}, 10^{-2}, 1, 16, 32, 1024$. Compute the values of w<sup>*</sup> and plot the solution of the Ridge regression for the above mentioned values of $\\lambda$. Comment the obtained results."
   ]
  }
 ],
 "metadata": {
  "language_info": {
   "name": "python"
  }
 },
 "nbformat": 4,
 "nbformat_minor": 2
}
