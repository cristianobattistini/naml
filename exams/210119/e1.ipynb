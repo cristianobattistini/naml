{
 "cells": [
  {
   "cell_type": "markdown",
   "metadata": {},
   "source": [
    "### Exercise 1"
   ]
  },
  {
   "cell_type": "markdown",
   "metadata": {},
   "source": [
    "We consider a database containing geometrical features of iris plants. The dataset can be loaded with the following commands:"
   ]
  },
  {
   "cell_type": "code",
   "execution_count": 3,
   "metadata": {},
   "outputs": [],
   "source": [
    "import pandas as pd\n",
    "import numpy as np\n",
    "import matplotlib.pyplot as plt\n",
    "data = pd.read_csv(\"http://archive.ics.uci.edu/ml/machine-learning-databases/iris/iris.data\", header = None)\n",
    "data_nparray = data.to_numpy()\n",
    "A = data_nparray[:, :4].T.astype(np.float64) # be careful, there is the transpose so rows as features and columns as samples\n",
    "labels = data_nparray[:,4] #last column of the data\n",
    "features = np.array(data.columns[:4])\n",
    "groups = (\"Iris-setosa\",\"Iris-versicolor\",\"Iris-virginica\")"
   ]
  },
  {
   "cell_type": "code",
   "execution_count": 4,
   "metadata": {},
   "outputs": [
    {
     "data": {
      "text/plain": [
       "array([0, 1, 2, 3], dtype=int64)"
      ]
     },
     "execution_count": 4,
     "metadata": {},
     "output_type": "execute_result"
    }
   ],
   "source": [
    "features"
   ]
  },
  {
   "cell_type": "code",
   "execution_count": 5,
   "metadata": {},
   "outputs": [
    {
     "data": {
      "text/html": [
       "<div>\n",
       "<style scoped>\n",
       "    .dataframe tbody tr th:only-of-type {\n",
       "        vertical-align: middle;\n",
       "    }\n",
       "\n",
       "    .dataframe tbody tr th {\n",
       "        vertical-align: top;\n",
       "    }\n",
       "\n",
       "    .dataframe thead th {\n",
       "        text-align: right;\n",
       "    }\n",
       "</style>\n",
       "<table border=\"1\" class=\"dataframe\">\n",
       "  <thead>\n",
       "    <tr style=\"text-align: right;\">\n",
       "      <th></th>\n",
       "      <th>0</th>\n",
       "      <th>1</th>\n",
       "      <th>2</th>\n",
       "      <th>3</th>\n",
       "    </tr>\n",
       "  </thead>\n",
       "  <tbody>\n",
       "    <tr>\n",
       "      <th>count</th>\n",
       "      <td>150.000000</td>\n",
       "      <td>150.000000</td>\n",
       "      <td>150.000000</td>\n",
       "      <td>150.000000</td>\n",
       "    </tr>\n",
       "    <tr>\n",
       "      <th>mean</th>\n",
       "      <td>5.843333</td>\n",
       "      <td>3.054000</td>\n",
       "      <td>3.758667</td>\n",
       "      <td>1.198667</td>\n",
       "    </tr>\n",
       "    <tr>\n",
       "      <th>std</th>\n",
       "      <td>0.828066</td>\n",
       "      <td>0.433594</td>\n",
       "      <td>1.764420</td>\n",
       "      <td>0.763161</td>\n",
       "    </tr>\n",
       "    <tr>\n",
       "      <th>min</th>\n",
       "      <td>4.300000</td>\n",
       "      <td>2.000000</td>\n",
       "      <td>1.000000</td>\n",
       "      <td>0.100000</td>\n",
       "    </tr>\n",
       "    <tr>\n",
       "      <th>25%</th>\n",
       "      <td>5.100000</td>\n",
       "      <td>2.800000</td>\n",
       "      <td>1.600000</td>\n",
       "      <td>0.300000</td>\n",
       "    </tr>\n",
       "    <tr>\n",
       "      <th>50%</th>\n",
       "      <td>5.800000</td>\n",
       "      <td>3.000000</td>\n",
       "      <td>4.350000</td>\n",
       "      <td>1.300000</td>\n",
       "    </tr>\n",
       "    <tr>\n",
       "      <th>75%</th>\n",
       "      <td>6.400000</td>\n",
       "      <td>3.300000</td>\n",
       "      <td>5.100000</td>\n",
       "      <td>1.800000</td>\n",
       "    </tr>\n",
       "    <tr>\n",
       "      <th>max</th>\n",
       "      <td>7.900000</td>\n",
       "      <td>4.400000</td>\n",
       "      <td>6.900000</td>\n",
       "      <td>2.500000</td>\n",
       "    </tr>\n",
       "  </tbody>\n",
       "</table>\n",
       "</div>"
      ],
      "text/plain": [
       "                0           1           2           3\n",
       "count  150.000000  150.000000  150.000000  150.000000\n",
       "mean     5.843333    3.054000    3.758667    1.198667\n",
       "std      0.828066    0.433594    1.764420    0.763161\n",
       "min      4.300000    2.000000    1.000000    0.100000\n",
       "25%      5.100000    2.800000    1.600000    0.300000\n",
       "50%      5.800000    3.000000    4.350000    1.300000\n",
       "75%      6.400000    3.300000    5.100000    1.800000\n",
       "max      7.900000    4.400000    6.900000    2.500000"
      ]
     },
     "execution_count": 5,
     "metadata": {},
     "output_type": "execute_result"
    }
   ],
   "source": [
    "data.describe()"
   ]
  },
  {
   "cell_type": "code",
   "execution_count": 6,
   "metadata": {},
   "outputs": [
    {
     "data": {
      "text/html": [
       "<div>\n",
       "<style scoped>\n",
       "    .dataframe tbody tr th:only-of-type {\n",
       "        vertical-align: middle;\n",
       "    }\n",
       "\n",
       "    .dataframe tbody tr th {\n",
       "        vertical-align: top;\n",
       "    }\n",
       "\n",
       "    .dataframe thead th {\n",
       "        text-align: right;\n",
       "    }\n",
       "</style>\n",
       "<table border=\"1\" class=\"dataframe\">\n",
       "  <thead>\n",
       "    <tr style=\"text-align: right;\">\n",
       "      <th></th>\n",
       "      <th>0</th>\n",
       "      <th>1</th>\n",
       "      <th>2</th>\n",
       "      <th>3</th>\n",
       "      <th>4</th>\n",
       "    </tr>\n",
       "  </thead>\n",
       "  <tbody>\n",
       "    <tr>\n",
       "      <th>0</th>\n",
       "      <td>5.1</td>\n",
       "      <td>3.5</td>\n",
       "      <td>1.4</td>\n",
       "      <td>0.2</td>\n",
       "      <td>Iris-setosa</td>\n",
       "    </tr>\n",
       "    <tr>\n",
       "      <th>1</th>\n",
       "      <td>4.9</td>\n",
       "      <td>3.0</td>\n",
       "      <td>1.4</td>\n",
       "      <td>0.2</td>\n",
       "      <td>Iris-setosa</td>\n",
       "    </tr>\n",
       "    <tr>\n",
       "      <th>2</th>\n",
       "      <td>4.7</td>\n",
       "      <td>3.2</td>\n",
       "      <td>1.3</td>\n",
       "      <td>0.2</td>\n",
       "      <td>Iris-setosa</td>\n",
       "    </tr>\n",
       "    <tr>\n",
       "      <th>3</th>\n",
       "      <td>4.6</td>\n",
       "      <td>3.1</td>\n",
       "      <td>1.5</td>\n",
       "      <td>0.2</td>\n",
       "      <td>Iris-setosa</td>\n",
       "    </tr>\n",
       "    <tr>\n",
       "      <th>4</th>\n",
       "      <td>5.0</td>\n",
       "      <td>3.6</td>\n",
       "      <td>1.4</td>\n",
       "      <td>0.2</td>\n",
       "      <td>Iris-setosa</td>\n",
       "    </tr>\n",
       "    <tr>\n",
       "      <th>...</th>\n",
       "      <td>...</td>\n",
       "      <td>...</td>\n",
       "      <td>...</td>\n",
       "      <td>...</td>\n",
       "      <td>...</td>\n",
       "    </tr>\n",
       "    <tr>\n",
       "      <th>145</th>\n",
       "      <td>6.7</td>\n",
       "      <td>3.0</td>\n",
       "      <td>5.2</td>\n",
       "      <td>2.3</td>\n",
       "      <td>Iris-virginica</td>\n",
       "    </tr>\n",
       "    <tr>\n",
       "      <th>146</th>\n",
       "      <td>6.3</td>\n",
       "      <td>2.5</td>\n",
       "      <td>5.0</td>\n",
       "      <td>1.9</td>\n",
       "      <td>Iris-virginica</td>\n",
       "    </tr>\n",
       "    <tr>\n",
       "      <th>147</th>\n",
       "      <td>6.5</td>\n",
       "      <td>3.0</td>\n",
       "      <td>5.2</td>\n",
       "      <td>2.0</td>\n",
       "      <td>Iris-virginica</td>\n",
       "    </tr>\n",
       "    <tr>\n",
       "      <th>148</th>\n",
       "      <td>6.2</td>\n",
       "      <td>3.4</td>\n",
       "      <td>5.4</td>\n",
       "      <td>2.3</td>\n",
       "      <td>Iris-virginica</td>\n",
       "    </tr>\n",
       "    <tr>\n",
       "      <th>149</th>\n",
       "      <td>5.9</td>\n",
       "      <td>3.0</td>\n",
       "      <td>5.1</td>\n",
       "      <td>1.8</td>\n",
       "      <td>Iris-virginica</td>\n",
       "    </tr>\n",
       "  </tbody>\n",
       "</table>\n",
       "<p>150 rows × 5 columns</p>\n",
       "</div>"
      ],
      "text/plain": [
       "       0    1    2    3               4\n",
       "0    5.1  3.5  1.4  0.2     Iris-setosa\n",
       "1    4.9  3.0  1.4  0.2     Iris-setosa\n",
       "2    4.7  3.2  1.3  0.2     Iris-setosa\n",
       "3    4.6  3.1  1.5  0.2     Iris-setosa\n",
       "4    5.0  3.6  1.4  0.2     Iris-setosa\n",
       "..   ...  ...  ...  ...             ...\n",
       "145  6.7  3.0  5.2  2.3  Iris-virginica\n",
       "146  6.3  2.5  5.0  1.9  Iris-virginica\n",
       "147  6.5  3.0  5.2  2.0  Iris-virginica\n",
       "148  6.2  3.4  5.4  2.3  Iris-virginica\n",
       "149  5.9  3.0  5.1  1.8  Iris-virginica\n",
       "\n",
       "[150 rows x 5 columns]"
      ]
     },
     "execution_count": 6,
     "metadata": {},
     "output_type": "execute_result"
    }
   ],
   "source": [
    "data"
   ]
  },
  {
   "cell_type": "markdown",
   "metadata": {},
   "source": [
    "# PCA on the Iris Dataset\n",
    "\n",
    "### 1. How many samples are there in the dataset? How many samples belong to each class?\n",
    "The dataset contains samples of iris plants, each labeled as one of three classes:\n",
    "- *Iris-setosa*\n",
    "- *Iris-versicolor*\n",
    "- *Iris-virginica*"
   ]
  },
  {
   "cell_type": "code",
   "execution_count": 7,
   "metadata": {},
   "outputs": [
    {
     "data": {
      "text/plain": [
       "(4, 150)"
      ]
     },
     "execution_count": 7,
     "metadata": {},
     "output_type": "execute_result"
    }
   ],
   "source": [
    "A.shape"
   ]
  },
  {
   "cell_type": "code",
   "execution_count": 8,
   "metadata": {},
   "outputs": [
    {
     "data": {
      "text/html": [
       "<div>\n",
       "<style scoped>\n",
       "    .dataframe tbody tr th:only-of-type {\n",
       "        vertical-align: middle;\n",
       "    }\n",
       "\n",
       "    .dataframe tbody tr th {\n",
       "        vertical-align: top;\n",
       "    }\n",
       "\n",
       "    .dataframe thead th {\n",
       "        text-align: right;\n",
       "    }\n",
       "</style>\n",
       "<table border=\"1\" class=\"dataframe\">\n",
       "  <thead>\n",
       "    <tr style=\"text-align: right;\">\n",
       "      <th></th>\n",
       "      <th>0</th>\n",
       "      <th>1</th>\n",
       "      <th>2</th>\n",
       "      <th>3</th>\n",
       "      <th>4</th>\n",
       "      <th>5</th>\n",
       "      <th>6</th>\n",
       "      <th>7</th>\n",
       "      <th>8</th>\n",
       "      <th>9</th>\n",
       "      <th>...</th>\n",
       "      <th>140</th>\n",
       "      <th>141</th>\n",
       "      <th>142</th>\n",
       "      <th>143</th>\n",
       "      <th>144</th>\n",
       "      <th>145</th>\n",
       "      <th>146</th>\n",
       "      <th>147</th>\n",
       "      <th>148</th>\n",
       "      <th>149</th>\n",
       "    </tr>\n",
       "  </thead>\n",
       "  <tbody>\n",
       "    <tr>\n",
       "      <th>0</th>\n",
       "      <td>5.1</td>\n",
       "      <td>4.9</td>\n",
       "      <td>4.7</td>\n",
       "      <td>4.6</td>\n",
       "      <td>5.0</td>\n",
       "      <td>5.4</td>\n",
       "      <td>4.6</td>\n",
       "      <td>5.0</td>\n",
       "      <td>4.4</td>\n",
       "      <td>4.9</td>\n",
       "      <td>...</td>\n",
       "      <td>6.7</td>\n",
       "      <td>6.9</td>\n",
       "      <td>5.8</td>\n",
       "      <td>6.8</td>\n",
       "      <td>6.7</td>\n",
       "      <td>6.7</td>\n",
       "      <td>6.3</td>\n",
       "      <td>6.5</td>\n",
       "      <td>6.2</td>\n",
       "      <td>5.9</td>\n",
       "    </tr>\n",
       "    <tr>\n",
       "      <th>1</th>\n",
       "      <td>3.5</td>\n",
       "      <td>3.0</td>\n",
       "      <td>3.2</td>\n",
       "      <td>3.1</td>\n",
       "      <td>3.6</td>\n",
       "      <td>3.9</td>\n",
       "      <td>3.4</td>\n",
       "      <td>3.4</td>\n",
       "      <td>2.9</td>\n",
       "      <td>3.1</td>\n",
       "      <td>...</td>\n",
       "      <td>3.1</td>\n",
       "      <td>3.1</td>\n",
       "      <td>2.7</td>\n",
       "      <td>3.2</td>\n",
       "      <td>3.3</td>\n",
       "      <td>3.0</td>\n",
       "      <td>2.5</td>\n",
       "      <td>3.0</td>\n",
       "      <td>3.4</td>\n",
       "      <td>3.0</td>\n",
       "    </tr>\n",
       "    <tr>\n",
       "      <th>2</th>\n",
       "      <td>1.4</td>\n",
       "      <td>1.4</td>\n",
       "      <td>1.3</td>\n",
       "      <td>1.5</td>\n",
       "      <td>1.4</td>\n",
       "      <td>1.7</td>\n",
       "      <td>1.4</td>\n",
       "      <td>1.5</td>\n",
       "      <td>1.4</td>\n",
       "      <td>1.5</td>\n",
       "      <td>...</td>\n",
       "      <td>5.6</td>\n",
       "      <td>5.1</td>\n",
       "      <td>5.1</td>\n",
       "      <td>5.9</td>\n",
       "      <td>5.7</td>\n",
       "      <td>5.2</td>\n",
       "      <td>5.0</td>\n",
       "      <td>5.2</td>\n",
       "      <td>5.4</td>\n",
       "      <td>5.1</td>\n",
       "    </tr>\n",
       "    <tr>\n",
       "      <th>3</th>\n",
       "      <td>0.2</td>\n",
       "      <td>0.2</td>\n",
       "      <td>0.2</td>\n",
       "      <td>0.2</td>\n",
       "      <td>0.2</td>\n",
       "      <td>0.4</td>\n",
       "      <td>0.3</td>\n",
       "      <td>0.2</td>\n",
       "      <td>0.2</td>\n",
       "      <td>0.1</td>\n",
       "      <td>...</td>\n",
       "      <td>2.4</td>\n",
       "      <td>2.3</td>\n",
       "      <td>1.9</td>\n",
       "      <td>2.3</td>\n",
       "      <td>2.5</td>\n",
       "      <td>2.3</td>\n",
       "      <td>1.9</td>\n",
       "      <td>2.0</td>\n",
       "      <td>2.3</td>\n",
       "      <td>1.8</td>\n",
       "    </tr>\n",
       "  </tbody>\n",
       "</table>\n",
       "<p>4 rows × 150 columns</p>\n",
       "</div>"
      ],
      "text/plain": [
       "   0    1    2    3    4    5    6    7    8    9    ...  140  141  142  143  \\\n",
       "0  5.1  4.9  4.7  4.6  5.0  5.4  4.6  5.0  4.4  4.9  ...  6.7  6.9  5.8  6.8   \n",
       "1  3.5  3.0  3.2  3.1  3.6  3.9  3.4  3.4  2.9  3.1  ...  3.1  3.1  2.7  3.2   \n",
       "2  1.4  1.4  1.3  1.5  1.4  1.7  1.4  1.5  1.4  1.5  ...  5.6  5.1  5.1  5.9   \n",
       "3  0.2  0.2  0.2  0.2  0.2  0.4  0.3  0.2  0.2  0.1  ...  2.4  2.3  1.9  2.3   \n",
       "\n",
       "   144  145  146  147  148  149  \n",
       "0  6.7  6.7  6.3  6.5  6.2  5.9  \n",
       "1  3.3  3.0  2.5  3.0  3.4  3.0  \n",
       "2  5.7  5.2  5.0  5.2  5.4  5.1  \n",
       "3  2.5  2.3  1.9  2.0  2.3  1.8  \n",
       "\n",
       "[4 rows x 150 columns]"
      ]
     },
     "execution_count": 8,
     "metadata": {},
     "output_type": "execute_result"
    }
   ],
   "source": [
    "pd.DataFrame(A)"
   ]
  },
  {
   "cell_type": "code",
   "execution_count": 9,
   "metadata": {},
   "outputs": [
    {
     "name": "stdout",
     "output_type": "stream",
     "text": [
      "4 features\n",
      "150 samples\n",
      "50 iris plant in category #Iris-setosa\n",
      "50 iris plant in category #Iris-versicolor\n",
      "50 iris plant in category #Iris-virginica\n"
     ]
    }
   ],
   "source": [
    "print('%d features' % A.shape[0])\n",
    "print('%d samples' % A.shape[1])\n",
    "\n",
    "for g in groups:\n",
    "    print('%d iris plant in category #%s'% (np.sum(labels == g), g))"
   ]
  },
  {
   "cell_type": "markdown",
   "metadata": {},
   "source": [
    "### 2. Perform PCA on the dataset by means of the SVD decomposition. Then, plot the trend of:\n",
    "- The **singular values**: $$\\sigma_k$$\n",
    "- The **cumulate fraction of singular values**: $$\\frac{\\sum_{i=1}^k \\sigma_i}{\\sum_{i=1}^q \\sigma_i}$$\n",
    "- The **fraction of the explained variance**: $$\\frac{\\sum_{i=1}^k \\sigma_i^2}{\\sum_{i=1}^q \\sigma_i^2}$$\n",
    "\n",
    "\n"
   ]
  },
  {
   "cell_type": "code",
   "execution_count": 10,
   "metadata": {},
   "outputs": [
    {
     "data": {
      "text/plain": [
       "array([[-9.00681170e-01, -1.14301691e+00, -1.38535265e+00,\n",
       "        -1.50652052e+00, -1.02184904e+00, -5.37177559e-01,\n",
       "        -1.50652052e+00, -1.02184904e+00, -1.74885626e+00,\n",
       "        -1.14301691e+00, -5.37177559e-01, -1.26418478e+00,\n",
       "        -1.26418478e+00, -1.87002413e+00, -5.25060772e-02,\n",
       "        -1.73673948e-01, -5.37177559e-01, -9.00681170e-01,\n",
       "        -1.73673948e-01, -9.00681170e-01, -5.37177559e-01,\n",
       "        -9.00681170e-01, -1.50652052e+00, -9.00681170e-01,\n",
       "        -1.26418478e+00, -1.02184904e+00, -1.02184904e+00,\n",
       "        -7.79513300e-01, -7.79513300e-01, -1.38535265e+00,\n",
       "        -1.26418478e+00, -5.37177559e-01, -7.79513300e-01,\n",
       "        -4.16009689e-01, -1.14301691e+00, -1.02184904e+00,\n",
       "        -4.16009689e-01, -1.14301691e+00, -1.74885626e+00,\n",
       "        -9.00681170e-01, -1.02184904e+00, -1.62768839e+00,\n",
       "        -1.74885626e+00, -1.02184904e+00, -9.00681170e-01,\n",
       "        -1.26418478e+00, -9.00681170e-01, -1.50652052e+00,\n",
       "        -6.58345429e-01, -1.02184904e+00,  1.40150837e+00,\n",
       "         6.74501145e-01,  1.28034050e+00, -4.16009689e-01,\n",
       "         7.95669016e-01, -1.73673948e-01,  5.53333275e-01,\n",
       "        -1.14301691e+00,  9.16836886e-01, -7.79513300e-01,\n",
       "        -1.02184904e+00,  6.86617933e-02,  1.89829664e-01,\n",
       "         3.10997534e-01, -2.94841818e-01,  1.03800476e+00,\n",
       "        -2.94841818e-01, -5.25060772e-02,  4.32165405e-01,\n",
       "        -2.94841818e-01,  6.86617933e-02,  3.10997534e-01,\n",
       "         5.53333275e-01,  3.10997534e-01,  6.74501145e-01,\n",
       "         9.16836886e-01,  1.15917263e+00,  1.03800476e+00,\n",
       "         1.89829664e-01, -1.73673948e-01, -4.16009689e-01,\n",
       "        -4.16009689e-01, -5.25060772e-02,  1.89829664e-01,\n",
       "        -5.37177559e-01,  1.89829664e-01,  1.03800476e+00,\n",
       "         5.53333275e-01, -2.94841818e-01, -4.16009689e-01,\n",
       "        -4.16009689e-01,  3.10997534e-01, -5.25060772e-02,\n",
       "        -1.02184904e+00, -2.94841818e-01, -1.73673948e-01,\n",
       "        -1.73673948e-01,  4.32165405e-01, -9.00681170e-01,\n",
       "        -1.73673948e-01,  5.53333275e-01, -5.25060772e-02,\n",
       "         1.52267624e+00,  5.53333275e-01,  7.95669016e-01,\n",
       "         2.12851559e+00, -1.14301691e+00,  1.76501198e+00,\n",
       "         1.03800476e+00,  1.64384411e+00,  7.95669016e-01,\n",
       "         6.74501145e-01,  1.15917263e+00, -1.73673948e-01,\n",
       "        -5.25060772e-02,  6.74501145e-01,  7.95669016e-01,\n",
       "         2.24968346e+00,  2.24968346e+00,  1.89829664e-01,\n",
       "         1.28034050e+00, -2.94841818e-01,  2.24968346e+00,\n",
       "         5.53333275e-01,  1.03800476e+00,  1.64384411e+00,\n",
       "         4.32165405e-01,  3.10997534e-01,  6.74501145e-01,\n",
       "         1.64384411e+00,  1.88617985e+00,  2.49201920e+00,\n",
       "         6.74501145e-01,  5.53333275e-01,  3.10997534e-01,\n",
       "         2.24968346e+00,  5.53333275e-01,  6.74501145e-01,\n",
       "         1.89829664e-01,  1.28034050e+00,  1.03800476e+00,\n",
       "         1.28034050e+00, -5.25060772e-02,  1.15917263e+00,\n",
       "         1.03800476e+00,  1.03800476e+00,  5.53333275e-01,\n",
       "         7.95669016e-01,  4.32165405e-01,  6.86617933e-02],\n",
       "       [ 1.03205722e+00, -1.24957601e-01,  3.37848329e-01,\n",
       "         1.06445364e-01,  1.26346019e+00,  1.95766909e+00,\n",
       "         8.00654259e-01,  8.00654259e-01, -3.56360566e-01,\n",
       "         1.06445364e-01,  1.49486315e+00,  8.00654259e-01,\n",
       "        -1.24957601e-01, -1.24957601e-01,  2.18907205e+00,\n",
       "         3.11468391e+00,  1.95766909e+00,  1.03205722e+00,\n",
       "         1.72626612e+00,  1.72626612e+00,  8.00654259e-01,\n",
       "         1.49486315e+00,  1.26346019e+00,  5.69251294e-01,\n",
       "         8.00654259e-01, -1.24957601e-01,  8.00654259e-01,\n",
       "         1.03205722e+00,  8.00654259e-01,  3.37848329e-01,\n",
       "         1.06445364e-01,  8.00654259e-01,  2.42047502e+00,\n",
       "         2.65187798e+00,  1.06445364e-01,  3.37848329e-01,\n",
       "         1.03205722e+00,  1.06445364e-01, -1.24957601e-01,\n",
       "         8.00654259e-01,  1.03205722e+00, -1.74477836e+00,\n",
       "         3.37848329e-01,  1.03205722e+00,  1.72626612e+00,\n",
       "        -1.24957601e-01,  1.72626612e+00,  3.37848329e-01,\n",
       "         1.49486315e+00,  5.69251294e-01,  3.37848329e-01,\n",
       "         3.37848329e-01,  1.06445364e-01, -1.74477836e+00,\n",
       "        -5.87763531e-01, -5.87763531e-01,  5.69251294e-01,\n",
       "        -1.51337539e+00, -3.56360566e-01, -8.19166497e-01,\n",
       "        -2.43898725e+00, -1.24957601e-01, -1.97618132e+00,\n",
       "        -3.56360566e-01, -3.56360566e-01,  1.06445364e-01,\n",
       "        -1.24957601e-01, -8.19166497e-01, -1.97618132e+00,\n",
       "        -1.28197243e+00,  3.37848329e-01, -5.87763531e-01,\n",
       "        -1.28197243e+00, -5.87763531e-01, -3.56360566e-01,\n",
       "        -1.24957601e-01, -5.87763531e-01, -1.24957601e-01,\n",
       "        -3.56360566e-01, -1.05056946e+00, -1.51337539e+00,\n",
       "        -1.51337539e+00, -8.19166497e-01, -8.19166497e-01,\n",
       "        -1.24957601e-01,  8.00654259e-01,  1.06445364e-01,\n",
       "        -1.74477836e+00, -1.24957601e-01, -1.28197243e+00,\n",
       "        -1.05056946e+00, -1.24957601e-01, -1.05056946e+00,\n",
       "        -1.74477836e+00, -8.19166497e-01, -1.24957601e-01,\n",
       "        -3.56360566e-01, -3.56360566e-01, -1.28197243e+00,\n",
       "        -5.87763531e-01,  5.69251294e-01, -8.19166497e-01,\n",
       "        -1.24957601e-01, -3.56360566e-01, -1.24957601e-01,\n",
       "        -1.24957601e-01, -1.28197243e+00, -3.56360566e-01,\n",
       "        -1.28197243e+00,  1.26346019e+00,  3.37848329e-01,\n",
       "        -8.19166497e-01, -1.24957601e-01, -1.28197243e+00,\n",
       "        -5.87763531e-01,  3.37848329e-01, -1.24957601e-01,\n",
       "         1.72626612e+00, -1.05056946e+00, -1.97618132e+00,\n",
       "         3.37848329e-01, -5.87763531e-01, -5.87763531e-01,\n",
       "        -8.19166497e-01,  5.69251294e-01,  3.37848329e-01,\n",
       "        -5.87763531e-01, -1.24957601e-01, -5.87763531e-01,\n",
       "        -1.24957601e-01, -5.87763531e-01,  1.72626612e+00,\n",
       "        -5.87763531e-01, -5.87763531e-01, -1.05056946e+00,\n",
       "        -1.24957601e-01,  8.00654259e-01,  1.06445364e-01,\n",
       "        -1.24957601e-01,  1.06445364e-01,  1.06445364e-01,\n",
       "         1.06445364e-01, -8.19166497e-01,  3.37848329e-01,\n",
       "         5.69251294e-01, -1.24957601e-01, -1.28197243e+00,\n",
       "        -1.24957601e-01,  8.00654259e-01, -1.24957601e-01],\n",
       "       [-1.34127240e+00, -1.34127240e+00, -1.39813811e+00,\n",
       "        -1.28440670e+00, -1.34127240e+00, -1.17067529e+00,\n",
       "        -1.34127240e+00, -1.28440670e+00, -1.34127240e+00,\n",
       "        -1.28440670e+00, -1.28440670e+00, -1.22754100e+00,\n",
       "        -1.34127240e+00, -1.51186952e+00, -1.45500381e+00,\n",
       "        -1.28440670e+00, -1.39813811e+00, -1.34127240e+00,\n",
       "        -1.17067529e+00, -1.28440670e+00, -1.17067529e+00,\n",
       "        -1.28440670e+00, -1.56873522e+00, -1.17067529e+00,\n",
       "        -1.05694388e+00, -1.22754100e+00, -1.22754100e+00,\n",
       "        -1.28440670e+00, -1.34127240e+00, -1.22754100e+00,\n",
       "        -1.22754100e+00, -1.28440670e+00, -1.28440670e+00,\n",
       "        -1.34127240e+00, -1.28440670e+00, -1.45500381e+00,\n",
       "        -1.39813811e+00, -1.28440670e+00, -1.39813811e+00,\n",
       "        -1.28440670e+00, -1.39813811e+00, -1.39813811e+00,\n",
       "        -1.39813811e+00, -1.22754100e+00, -1.05694388e+00,\n",
       "        -1.34127240e+00, -1.22754100e+00, -1.34127240e+00,\n",
       "        -1.28440670e+00, -1.34127240e+00,  5.35295827e-01,\n",
       "         4.21564419e-01,  6.49027235e-01,  1.37235899e-01,\n",
       "         4.78430123e-01,  4.21564419e-01,  5.35295827e-01,\n",
       "        -2.60824029e-01,  4.78430123e-01,  8.03701950e-02,\n",
       "        -1.47092621e-01,  2.50967307e-01,  1.37235899e-01,\n",
       "         5.35295827e-01, -9.02269170e-02,  3.64698715e-01,\n",
       "         4.21564419e-01,  1.94101603e-01,  4.21564419e-01,\n",
       "         8.03701950e-02,  5.92161531e-01,  1.37235899e-01,\n",
       "         6.49027235e-01,  5.35295827e-01,  3.07833011e-01,\n",
       "         3.64698715e-01,  5.92161531e-01,  7.05892939e-01,\n",
       "         4.21564419e-01, -1.47092621e-01,  2.35044910e-02,\n",
       "        -3.33612130e-02,  8.03701950e-02,  7.62758643e-01,\n",
       "         4.21564419e-01,  4.21564419e-01,  5.35295827e-01,\n",
       "         3.64698715e-01,  1.94101603e-01,  1.37235899e-01,\n",
       "         3.64698715e-01,  4.78430123e-01,  1.37235899e-01,\n",
       "        -2.60824029e-01,  2.50967307e-01,  2.50967307e-01,\n",
       "         2.50967307e-01,  3.07833011e-01, -4.31421141e-01,\n",
       "         1.94101603e-01,  1.27454998e+00,  7.62758643e-01,\n",
       "         1.21768427e+00,  1.04708716e+00,  1.16081857e+00,\n",
       "         1.61574420e+00,  4.21564419e-01,  1.44514709e+00,\n",
       "         1.16081857e+00,  1.33141568e+00,  7.62758643e-01,\n",
       "         8.76490051e-01,  9.90221459e-01,  7.05892939e-01,\n",
       "         7.62758643e-01,  8.76490051e-01,  9.90221459e-01,\n",
       "         1.67260991e+00,  1.78634131e+00,  7.05892939e-01,\n",
       "         1.10395287e+00,  6.49027235e-01,  1.67260991e+00,\n",
       "         6.49027235e-01,  1.10395287e+00,  1.27454998e+00,\n",
       "         5.92161531e-01,  6.49027235e-01,  1.04708716e+00,\n",
       "         1.16081857e+00,  1.33141568e+00,  1.50201279e+00,\n",
       "         1.04708716e+00,  7.62758643e-01,  1.04708716e+00,\n",
       "         1.33141568e+00,  1.04708716e+00,  9.90221459e-01,\n",
       "         5.92161531e-01,  9.33355755e-01,  1.04708716e+00,\n",
       "         7.62758643e-01,  7.62758643e-01,  1.21768427e+00,\n",
       "         1.10395287e+00,  8.19624347e-01,  7.05892939e-01,\n",
       "         8.19624347e-01,  9.33355755e-01,  7.62758643e-01],\n",
       "       [-1.31297673e+00, -1.31297673e+00, -1.31297673e+00,\n",
       "        -1.31297673e+00, -1.31297673e+00, -1.05003079e+00,\n",
       "        -1.18150376e+00, -1.31297673e+00, -1.31297673e+00,\n",
       "        -1.44444970e+00, -1.31297673e+00, -1.31297673e+00,\n",
       "        -1.44444970e+00, -1.44444970e+00, -1.31297673e+00,\n",
       "        -1.05003079e+00, -1.05003079e+00, -1.18150376e+00,\n",
       "        -1.18150376e+00, -1.18150376e+00, -1.31297673e+00,\n",
       "        -1.05003079e+00, -1.31297673e+00, -9.18557817e-01,\n",
       "        -1.31297673e+00, -1.31297673e+00, -1.05003079e+00,\n",
       "        -1.31297673e+00, -1.31297673e+00, -1.31297673e+00,\n",
       "        -1.31297673e+00, -1.05003079e+00, -1.44444970e+00,\n",
       "        -1.31297673e+00, -1.44444970e+00, -1.31297673e+00,\n",
       "        -1.31297673e+00, -1.44444970e+00, -1.31297673e+00,\n",
       "        -1.31297673e+00, -1.18150376e+00, -1.18150376e+00,\n",
       "        -1.31297673e+00, -7.87084847e-01, -1.05003079e+00,\n",
       "        -1.18150376e+00, -1.31297673e+00, -1.31297673e+00,\n",
       "        -1.31297673e+00, -1.31297673e+00,  2.64698913e-01,\n",
       "         3.96171883e-01,  3.96171883e-01,  1.33225943e-01,\n",
       "         3.96171883e-01,  1.33225943e-01,  5.27644853e-01,\n",
       "        -2.61192967e-01,  1.33225943e-01,  2.64698913e-01,\n",
       "        -2.61192967e-01,  3.96171883e-01, -2.61192967e-01,\n",
       "         2.64698913e-01,  1.33225943e-01,  2.64698913e-01,\n",
       "         3.96171883e-01, -2.61192967e-01,  3.96171883e-01,\n",
       "        -1.29719997e-01,  7.90590793e-01,  1.33225943e-01,\n",
       "         3.96171883e-01,  1.75297293e-03,  1.33225943e-01,\n",
       "         2.64698913e-01,  2.64698913e-01,  6.59117823e-01,\n",
       "         3.96171883e-01, -2.61192967e-01, -1.29719997e-01,\n",
       "        -2.61192967e-01,  1.75297293e-03,  5.27644853e-01,\n",
       "         3.96171883e-01,  5.27644853e-01,  3.96171883e-01,\n",
       "         1.33225943e-01,  1.33225943e-01,  1.33225943e-01,\n",
       "         1.75297293e-03,  2.64698913e-01,  1.75297293e-03,\n",
       "        -2.61192967e-01,  1.33225943e-01,  1.75297293e-03,\n",
       "         1.33225943e-01,  1.33225943e-01, -1.29719997e-01,\n",
       "         1.33225943e-01,  1.71090158e+00,  9.22063763e-01,\n",
       "         1.18500970e+00,  7.90590793e-01,  1.31648267e+00,\n",
       "         1.18500970e+00,  6.59117823e-01,  7.90590793e-01,\n",
       "         7.90590793e-01,  1.71090158e+00,  1.05353673e+00,\n",
       "         9.22063763e-01,  1.18500970e+00,  1.05353673e+00,\n",
       "         1.57942861e+00,  1.44795564e+00,  7.90590793e-01,\n",
       "         1.31648267e+00,  1.44795564e+00,  3.96171883e-01,\n",
       "         1.44795564e+00,  1.05353673e+00,  1.05353673e+00,\n",
       "         7.90590793e-01,  1.18500970e+00,  7.90590793e-01,\n",
       "         7.90590793e-01,  7.90590793e-01,  1.18500970e+00,\n",
       "         5.27644853e-01,  9.22063763e-01,  1.05353673e+00,\n",
       "         1.31648267e+00,  3.96171883e-01,  2.64698913e-01,\n",
       "         1.44795564e+00,  1.57942861e+00,  7.90590793e-01,\n",
       "         7.90590793e-01,  1.18500970e+00,  1.57942861e+00,\n",
       "         1.44795564e+00,  9.22063763e-01,  1.44795564e+00,\n",
       "         1.71090158e+00,  1.44795564e+00,  9.22063763e-01,\n",
       "         1.05353673e+00,  1.44795564e+00,  7.90590793e-01]])"
      ]
     },
     "execution_count": 10,
     "metadata": {},
     "output_type": "execute_result"
    }
   ],
   "source": [
    "A_norm = (A - np.mean(A, axis=1)[:,None]) / np.std(A, axis=1)[:,None]\n",
    "A_norm"
   ]
  },
  {
   "cell_type": "code",
   "execution_count": 11,
   "metadata": {},
   "outputs": [
    {
     "data": {
      "text/plain": [
       "Text(0.5, 1.0, 'Explained Variance')"
      ]
     },
     "execution_count": 11,
     "metadata": {},
     "output_type": "execute_result"
    },
    {
     "data": {
      "image/png": "[encoded data removed]",
      "text/plain": [
       "<Figure size 1800x600 with 3 Axes>"
      ]
     },
     "metadata": {},
     "output_type": "display_data"
    }
   ],
   "source": [
    "U, s, VT = np.linalg.svd(A_norm, full_matrices=False)\n",
    "\n",
    "fig, axes = plt.subplots(1, 3, figsize = (18,6))\n",
    "\n",
    "axes[0].semilogy(s, 'o-')\n",
    "axes[0].set_title('Singular Values')\n",
    "\n",
    "axes[1].plot(np.cumsum(s) / np.sum(s), 'o-')\n",
    "axes[1].set_title('Cumulate fraction of singular values')\n",
    "\n",
    "axes[2].plot(np.cumsum(s**2) / np.sum(s**2), 'o-')\n",
    "axes[2].set_title('Explained Variance')\n"
   ]
  },
  {
   "cell_type": "markdown",
   "metadata": {},
   "source": [
    "### 3. Compute a matrix containing the principal components associated with the dataset."
   ]
  },
  {
   "cell_type": "code",
   "execution_count": 12,
   "metadata": {},
   "outputs": [],
   "source": [
    "Phi = U.T @ A_norm"
   ]
  },
  {
   "cell_type": "code",
   "execution_count": 13,
   "metadata": {},
   "outputs": [
    {
     "data": {
      "text/plain": [
       "(4, 150)"
      ]
     },
     "execution_count": 13,
     "metadata": {},
     "output_type": "execute_result"
    }
   ],
   "source": [
    "Phi.shape"
   ]
  },
  {
   "cell_type": "markdown",
   "metadata": {},
   "source": [
    "see how each feature contributes to PC1"
   ]
  },
  {
   "cell_type": "code",
   "execution_count": 14,
   "metadata": {},
   "outputs": [
    {
     "data": {
      "text/plain": [
       "array([-0.52237162,  0.26335492, -0.58125401, -0.56561105])"
      ]
     },
     "execution_count": 14,
     "metadata": {},
     "output_type": "execute_result"
    }
   ],
   "source": [
    "U[:,0]"
   ]
  },
  {
   "cell_type": "code",
   "execution_count": 15,
   "metadata": {},
   "outputs": [
    {
     "data": {
      "text/plain": [
       "array([-0.37231836, -0.92555649, -0.02109478, -0.06541577])"
      ]
     },
     "execution_count": 15,
     "metadata": {},
     "output_type": "execute_result"
    }
   ],
   "source": [
    "U[:,1]"
   ]
  },
  {
   "cell_type": "code",
   "execution_count": 16,
   "metadata": {},
   "outputs": [
    {
     "name": "stderr",
     "output_type": "stream",
     "text": [
      "C:\\Users\\Crist\\AppData\\Local\\Temp\\ipykernel_20940\\2103260032.py:4: UserWarning: set_ticklabels() should only be used with a fixed number of ticks, i.e. after set_ticks() or using a FixedLocator.\n",
      "  axs[i].set_xticklabels(features, rotation=90)\n",
      "C:\\Users\\Crist\\AppData\\Local\\Temp\\ipykernel_20940\\2103260032.py:4: UserWarning: set_ticklabels() should only be used with a fixed number of ticks, i.e. after set_ticks() or using a FixedLocator.\n",
      "  axs[i].set_xticklabels(features, rotation=90)\n"
     ]
    },
    {
     "data": {
      "image/png": "[encoded data removed]",
      "text/plain": [
       "<Figure size 1600x800 with 2 Axes>"
      ]
     },
     "metadata": {},
     "output_type": "display_data"
    }
   ],
   "source": [
    "fig, axs = plt.subplots(1,2,figsize = (16,8))\n",
    "for i in range(2):\n",
    "  axs[i].bar(features, U[:, i])\n",
    "  axs[i].set_xticklabels(features, rotation=90)"
   ]
  },
  {
   "cell_type": "markdown",
   "metadata": {},
   "source": [
    "### 4. Generate a scatterplot of the first two principal components of the dataset, grouped by label."
   ]
  },
  {
   "cell_type": "code",
   "execution_count": 17,
   "metadata": {},
   "outputs": [
    {
     "data": {
      "text/plain": [
       "<matplotlib.legend.Legend at 0x2c70c605890>"
      ]
     },
     "execution_count": 17,
     "metadata": {},
     "output_type": "execute_result"
    },
    {
     "data": {
      "image/png": "[encoded data removed]",
      "text/plain": [
       "<Figure size 640x480 with 1 Axes>"
      ]
     },
     "metadata": {},
     "output_type": "display_data"
    }
   ],
   "source": [
    "for g in groups:\n",
    "  plt.scatter(Phi[0, labels == g], Phi[1, labels == g], label = g)\n",
    "plt.xlabel('1st p.c.')\n",
    "plt.ylabel('2nd p.c.')\n",
    "plt.legend()"
   ]
  },
  {
   "cell_type": "code",
   "execution_count": 18,
   "metadata": {},
   "outputs": [
    {
     "data": {
      "text/plain": [
       "<matplotlib.legend.Legend at 0x2c70c64c1d0>"
      ]
     },
     "execution_count": 18,
     "metadata": {},
     "output_type": "execute_result"
    },
    {
     "data": {
      "image/png": "[encoded data removed]",
      "text/plain": [
       "<Figure size 640x480 with 1 Axes>"
      ]
     },
     "metadata": {},
     "output_type": "display_data"
    }
   ],
   "source": [
    "for g in groups:\n",
    "  plt.scatter(Phi[0, labels == g], Phi[3, labels == g], label = g)\n",
    "plt.xlabel('1st p.c.')\n",
    "plt.ylabel('3nd p.c.')\n",
    "plt.legend()"
   ]
  },
  {
   "cell_type": "markdown",
   "metadata": {},
   "source": [
    "### 5. Comment on the results of point 4, in light of the results of point 2."
   ]
  },
  {
   "cell_type": "markdown",
   "metadata": {},
   "source": [
    "#### **Analysis Based on Point 2 (Explained Variance and Singular Values):**\n",
    "1. **Singular Values:**\n",
    "   - The first singular value is significantly larger than the others, indicating that the first principal component captures the majority of the variance in the data.\n",
    "   - The subsequent singular values decrease rapidly, which means the second and third components add less information.\n",
    "\n",
    "2. **Explained Variance:**\n",
    "   - The cumulative explained variance shows that the first two components capture more than 95% of the total variance.\n",
    "   - This suggests that most of the variability in the dataset can be represented in just two dimensions, making the data suitable for 2D visualization.\n",
    "\n",
    "---\n",
    "\n",
    "#### **Scatterplot Analysis from Point 4:**\n",
    "1. The scatterplot of the first two principal components shows clear separations between the three classes:\n",
    "   - **Iris-setosa** is well-separated from the other two classes in the first principal component.\n",
    "   - **Iris-versicolor** and **Iris-virginica** overlap slightly in the second principal component, suggesting some similarities in their features.\n",
    "\n",
    "2. **Link to Variance:**\n",
    "   - The separation aligns with the explained variance results:\n",
    "     - The first component dominates the variability, separating **Iris-setosa** from the other classes.\n",
    "     - The second component contributes less but helps refine the separation between **Iris-versicolor** and **Iris-virginica**.\n",
    "\n",
    "---\n",
    "\n",
    "#### **Key Insights:**\n",
    "- PCA effectively reduces the dimensionality of the dataset while preserving most of the important information.\n",
    "- The first two principal components are sufficient to distinguish between the three classes, confirming the patterns observed in the explained variance.\n",
    "- The slight overlap between **Iris-versicolor** and **Iris-virginica** indicates some shared characteristics, which is consistent with known challenges in separating these two species.\n",
    "\n",
    "This interpretation highlights how PCA simplifies the complexity of the dataset while retaining its structure.\n"
   ]
  },
  {
   "cell_type": "markdown",
   "metadata": {},
   "source": [
    "### **Principal Component Interpretation**\n",
    "\n",
    "#### **PC1: Separates Iris-setosa**\n",
    "- **Iris-setosa** has feature values that are significantly different from the other two classes (e.g., petal length, petal width).\n",
    "- PC1 captures the largest variance in the data, focusing on features that distinguish Iris-setosa from Iris-versicolor and Iris-virginica.\n",
    "\n",
    "#### **PC2: Distinguishes Iris-versicolor and Iris-virginica**\n",
    "- **Iris-versicolor** and **Iris-virginica** are more similar to each other than to Iris-setosa.\n",
    "- PC2 captures the next-largest variance, focusing on subtle differences between these two classes.\n",
    "\n",
    "#### **Summary**\n",
    "- **PC1** separates Iris-setosa from the rest because its features dominate the largest variance.\n",
    "- **PC2** separates Iris-versicolor and Iris-virginica based on smaller, more nuanced differences in their features.\n"
   ]
  }
 ],
 "metadata": {
  "kernelspec": {
   "display_name": "Python 3",
   "language": "python",
   "name": "python3"
  },
  "language_info": {
   "codemirror_mode": {
    "name": "ipython",
    "version": 3
   },
   "file_extension": ".py",
   "mimetype": "text/x-python",
   "name": "python",
   "nbconvert_exporter": "python",
   "pygments_lexer": "ipython3",
   "version": "3.11.5"
  }
 },
 "nbformat": 4,
 "nbformat_minor": 2
}
