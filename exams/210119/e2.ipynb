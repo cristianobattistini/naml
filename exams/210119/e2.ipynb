{
 "cells": [
  {
   "cell_type": "markdown",
   "metadata": {},
   "source": [
    "### **Exercise 2**"
   ]
  },
  {
   "cell_type": "markdown",
   "metadata": {},
   "source": [
    "Give a brief explaination of the Gradient Descent method and motivate the introduction of the Stochastic Gradient Descent (SGD)."
   ]
  },
  {
   "cell_type": "markdown",
   "metadata": {},
   "source": [
    "#### **Brief Explanation of Gradient Descent**\n",
    "Gradient Descent is an optimization algorithm used to minimize a loss function by iteratively adjusting the parameters of a model. The key steps are:\n",
    "1. Compute the gradient of the loss function with respect to the parameters.\n",
    "2. Update the parameters in the direction of the negative gradient to reduce the loss.\n",
    "\n",
    "The update rule is:\n",
    "$$\n",
    "\\theta_{t+1} = \\theta_t - \\eta \\nabla L(\\theta_t)\n",
    "$$\n",
    "where:\n",
    "- $\\theta_t$: Parameters at iteration $t$,\n",
    "- $\\eta$: Learning rate (step size),\n",
    "- $\\nabla L(\\theta_t)$: Gradient of the loss function $L$ with respect to $\\theta_t$.\n",
    "\n",
    "---\n",
    "\n",
    "#### **Stochastic Gradient Descent (SGD)**\n",
    "SGD is a variant of Gradient Descent where the gradient is computed on a randomly selected subset (batch) of the data rather than the entire dataset. This reduces computational cost, especially for large datasets, and introduces noise that helps escape local minima.\n",
    "\n",
    "---\n",
    "\n",
    "#### **Dataset Setup**\n",
    "The dataset is defined as follows:\n",
    "```python\n",
    "m = 100\n",
    "noise = 1.0\n",
    "coeff_exact = np.array([5.0, 1.0])\n",
    "\n",
    "np.random.seed(0)\n",
    "X = np.c_[1*np.ones(m), 13.5 * np.random.rand(m, 1)]\n",
    "y = X @ coeff_exact + noise * np.random.randn(m)\n"
   ]
  },
  {
   "cell_type": "markdown",
   "metadata": {},
   "source": [
    "The Gradient Descent is an iterative optimization technique, usually applied in ML setting, to minimize a function, which is usualy a cost function (such as MSE) by adjusting some parameters of the function\n",
    "\n",
    "The optimization is performed by correcting the position of the current solution in the hyper-space of parameters by moving in the opposite direction of the gradient of the cost or MSE function, which is the direction of the maximum change of the function (this is way we move in the opposite direction of the gradient).\n",
    "\n",
    "The step size in the opposite gradient direction is controlled by an hyperparameter, which is called learning rate, and it controls the magnitude of the upate. The learning rate is of paramount importance in order to ensure the convergence of the method.\n",
    "\n",
    "This iterative approach is performed until a stopping criterion is met (either a maximum number of steps, or if a desired tolerance is met either of the residuals or between consecutive steps)"
   ]
  },
  {
   "cell_type": "markdown",
   "metadata": {},
   "source": [
    "The Stochastic Gradient Descent (SGD) has been introduced to speed up the computation of the gradient of the cost/MSE function, by computing it only on a random subset of the samples, called mini-batch, instead of computing in on the whole dataset.\n",
    "\n",
    "There are many ways to choose the subset of samples: only sample can be used, or a minibatch of the whole set (SGD with minibatch)"
   ]
  },
  {
   "cell_type": "code",
   "execution_count": 88,
   "metadata": {},
   "outputs": [],
   "source": [
    "import numpy as np\n",
    "import jax\n",
    "import jax.numpy as jnp\n",
    "import matplotlib.pyplot as plt\n",
    "import pandas as pd"
   ]
  },
  {
   "cell_type": "code",
   "execution_count": 89,
   "metadata": {},
   "outputs": [],
   "source": [
    "m = 100 #number of samples\n",
    "noise = 1.0 # simulate real world measurement\n",
    "coeff_exact = np.array([5.0, 1.0]) #These are the exact coefficients [b,w] of the linear model: y= b + w*x, \n",
    "\n",
    "np.random.seed(0)\n",
    "X = np.c_[1*np.ones(m), 13.5 * np.random.rand(m, 1)]\n",
    "y = X @ coeff_exact + noise * np.random.randn(m)"
   ]
  },
  {
   "cell_type": "code",
   "execution_count": 90,
   "metadata": {},
   "outputs": [
    {
     "data": {
      "text/plain": [
       "array([[ 1.        ,  7.4089823 ],\n",
       "       [ 1.        ,  9.65505645],\n",
       "       [ 1.        ,  8.13730558],\n",
       "       [ 1.        ,  7.35592297],\n",
       "       [ 1.        ,  5.71933979],\n",
       "       [ 1.        ,  8.71957053],\n",
       "       [ 1.        ,  5.90742735],\n",
       "       [ 1.        , 12.03893551],\n",
       "       [ 1.        , 13.00944727],\n",
       "       [ 1.        ,  5.1764605 ],\n",
       "       [ 1.        , 10.68828801],\n",
       "       [ 1.        ,  7.14008142],\n",
       "       [ 1.        ,  7.66860157],\n",
       "       [ 1.        , 12.49555462],\n",
       "       [ 1.        ,  0.95898679],\n",
       "       [ 1.        ,  1.17624555],\n",
       "       [ 1.        ,  0.27294837],\n",
       "       [ 1.        , 11.24036791],\n",
       "       [ 1.        , 10.50511614],\n",
       "       [ 1.        , 11.745164  ],\n",
       "       [ 1.        , 13.21134762],\n",
       "       [ 1.        , 10.78864062],\n",
       "       [ 1.        ,  6.22997139],\n",
       "       [ 1.        , 10.53714388],\n",
       "       [ 1.        ,  1.59670475],\n",
       "       [ 1.        ,  8.63893379],\n",
       "       [ 1.        ,  1.93526938],\n",
       "       [ 1.        , 12.75303038],\n",
       "       [ 1.        ,  7.04495234],\n",
       "       [ 1.        ,  5.59793619],\n",
       "       [ 1.        ,  3.57150076],\n",
       "       [ 1.        , 10.45215481],\n",
       "       [ 1.        ,  6.15802948],\n",
       "       [ 1.        ,  7.67385831],\n",
       "       [ 1.        ,  0.25366231],\n",
       "       [ 1.        ,  8.33807921],\n",
       "       [ 1.        ,  8.26329226],\n",
       "       [ 1.        ,  8.32860896],\n",
       "       [ 1.        , 12.74059906],\n",
       "       [ 1.        ,  9.20457404],\n",
       "       [ 1.        ,  4.85335666],\n",
       "       [ 1.        ,  5.89993138],\n",
       "       [ 1.        ,  9.41802115],\n",
       "       [ 1.        ,  0.81304387],\n",
       "       [ 1.        ,  9.00135066],\n",
       "       [ 1.        ,  9.05361124],\n",
       "       [ 1.        ,  2.84016457],\n",
       "       [ 1.        ,  1.74050502],\n",
       "       [ 1.        ,  4.25828274],\n",
       "       [ 1.        ,  4.91009541],\n",
       "       [ 1.        ,  7.6976564 ],\n",
       "       [ 1.        ,  5.92112043],\n",
       "       [ 1.        , 13.34304681],\n",
       "       [ 1.        ,  1.37760495],\n",
       "       [ 1.        ,  2.81983621],\n",
       "       [ 1.        ,  2.17767849],\n",
       "       [ 1.        ,  8.81696239],\n",
       "       [ 1.        ,  3.41943663],\n",
       "       [ 1.        ,  6.29519543],\n",
       "       [ 1.        ,  3.29974549],\n",
       "       [ 1.        ,  2.14608938],\n",
       "       [ 1.        ,  1.49006441],\n",
       "       [ 1.        ,  8.86044946],\n",
       "       [ 1.        ,  1.86546984],\n",
       "       [ 1.        ,  2.65386188],\n",
       "       [ 1.        ,  4.9777898 ],\n",
       "       [ 1.        , 11.0834086 ],\n",
       "       [ 1.        ,  1.31086722],\n",
       "       [ 1.        , 11.31225625],\n",
       "       [ 1.        ,  1.29732851],\n",
       "       [ 1.        , 13.18220278],\n",
       "       [ 1.        ,  6.32679122],\n",
       "       [ 1.        , 13.18627469],\n",
       "       [ 1.        ,  8.16541452],\n",
       "       [ 1.        ,  9.98005832],\n",
       "       [ 1.        ,  0.5290352 ],\n",
       "       [ 1.        ,  3.81789399],\n",
       "       [ 1.        ,  1.62265358],\n",
       "       [ 1.        ,  3.99789267],\n",
       "       [ 1.        ,  1.60282421],\n",
       "       [ 1.        ,  4.29277292],\n",
       "       [ 1.        ,  5.59255043],\n",
       "       [ 1.        ,  0.8659912 ],\n",
       "       [ 1.        ,  9.34837361],\n",
       "       [ 1.        ,  7.64911963],\n",
       "       [ 1.        ,  3.58275813],\n",
       "       [ 1.        ,  7.06384872],\n",
       "       [ 1.        ,  1.2681969 ],\n",
       "       [ 1.        ,  7.77527769],\n",
       "       [ 1.        , 12.54549867],\n",
       "       [ 1.        ,  4.30068086],\n",
       "       [ 1.        ,  9.01004013],\n",
       "       [ 1.        ,  1.77927114],\n",
       "       [ 1.        ,  9.67041726],\n",
       "       [ 1.        ,  3.90698225],\n",
       "       [ 1.        ,  2.47308339],\n",
       "       [ 1.        ,  7.91792462],\n",
       "       [ 1.        ,  0.27145187],\n",
       "       [ 1.        , 11.19069039],\n",
       "       [ 1.        ,  0.06338893]])"
      ]
     },
     "execution_count": 90,
     "metadata": {},
     "output_type": "execute_result"
    }
   ],
   "source": [
    "X"
   ]
  },
  {
   "cell_type": "code",
   "execution_count": 91,
   "metadata": {},
   "outputs": [
    {
     "data": {
      "text/plain": [
       "(100, 2)"
      ]
     },
     "execution_count": 91,
     "metadata": {},
     "output_type": "execute_result"
    }
   ],
   "source": [
    "X.shape"
   ]
  },
  {
   "cell_type": "markdown",
   "metadata": {},
   "source": [
    "### **Dataset Explanation**\n",
    "\n",
    "1. **`np.c_[1*np.ones(m), 13.5 * np.random.rand(m, 1)]`:**\n",
    "   - Creates the feature matrix $X$ with two columns:\n",
    "     - The first column is a constant $1$, which represents the bias term $b$.\n",
    "     - The second column is a randomly generated feature $x$ scaled by $13.5$. This ensures $x$-values are in the range $[0, 13.5)$.\n",
    "\n",
    "2. **`X @ coeff_exact`:**\n",
    "   - Computes the exact linear relationship:\n",
    "     $$\n",
    "     y_{\\text{exact}} = b + w \\cdot x\n",
    "     $$\n",
    "   - The result is a vector of size $m$ (100 samples) representing the true $y$-values without noise.\n",
    "\n",
    "3. **`noise * np.random.randn(m)`:**\n",
    "   - Adds Gaussian noise to $y_{\\text{exact}}$:\n",
    "     - `np.random.randn(m)` generates 100 random values from a standard normal distribution ($\\mathcal{N}(0, 1)$).\n",
    "     - These values are scaled by the `noise` parameter ($1.0$).\n",
    "\n",
    "4. **`y = ...`:**\n",
    "   - The final $y$ vector contains the noisy observations of the dependent variable:\n",
    "     $$\n",
    "     y = b + w \\cdot x + \\text{noise}\n",
    "     $$\n"
   ]
  },
  {
   "cell_type": "markdown",
   "metadata": {},
   "source": [
    "Use the SGD to t a linear model to these data. Initialize the two unknown parameters using \n",
    "```python np.random.randn(2)```\n",
    "and find suitable values for the learning rate and for the number of epochs; motivate your choices.\n"
   ]
  },
  {
   "cell_type": "code",
   "execution_count": 92,
   "metadata": {},
   "outputs": [
    {
     "data": {
      "text/plain": [
       "[<matplotlib.lines.Line2D at 0x1d7f250fe90>]"
      ]
     },
     "execution_count": 92,
     "metadata": {},
     "output_type": "execute_result"
    },
    {
     "data": {
      "image/png": "[encoded data removed]",
      "text/plain": [
       "<Figure size 640x480 with 1 Axes>"
      ]
     },
     "metadata": {},
     "output_type": "display_data"
    }
   ],
   "source": [
    "plt.scatter(X[:, 1], y)\n",
    "plt.plot(X[:, 1], X @ coeff_exact, color=\"red\")"
   ]
  },
  {
   "cell_type": "markdown",
   "metadata": {},
   "source": [
    "## Initialize parameters"
   ]
  },
  {
   "cell_type": "code",
   "execution_count": 93,
   "metadata": {},
   "outputs": [],
   "source": [
    "np.random.randn(2)\n",
    "np.random.seed(0)"
   ]
  },
  {
   "cell_type": "code",
   "execution_count": 94,
   "metadata": {},
   "outputs": [],
   "source": [
    "def initialize_params(dim =2):\n",
    "    np.random.seed(0)\n",
    "    return np.random.randn(2)"
   ]
  },
  {
   "cell_type": "code",
   "execution_count": 95,
   "metadata": {},
   "outputs": [
    {
     "data": {
      "text/plain": [
       "array([1.76405235, 0.40015721])"
      ]
     },
     "execution_count": 95,
     "metadata": {},
     "output_type": "execute_result"
    }
   ],
   "source": [
    "params = initialize_params()\n",
    "params"
   ]
  },
  {
   "cell_type": "markdown",
   "metadata": {},
   "source": [
    "### Define a Loss / Cost Function"
   ]
  },
  {
   "cell_type": "code",
   "execution_count": 96,
   "metadata": {},
   "outputs": [],
   "source": [
    "def MSE(x,y,params):\n",
    "    return jnp.sqrt(jnp.sum(jnp.square(y - x @ params)))\n",
    "''' \n",
    "y: target\n",
    "x: input \n",
    "params: learned parameters by the model\n",
    "the model y_hat = X @ params is of course made by the params found\n",
    "We compute the loss wrt the params found\n",
    "'''\n",
    "\n",
    "grad_jit = jax.jit(jax.grad(MSE, argnums=2)) # inform jax to compute grad wrt parameters\n",
    "''' \n",
    "it will be useful when we need to compute the gradient of the loss function\n",
    "at each epoch of the gradient descent itertive method\n",
    "'''\n",
    "MSE_jit = jax.jit(MSE) # just a compile option to speed up computation"
   ]
  },
  {
   "cell_type": "code",
   "execution_count": 97,
   "metadata": {},
   "outputs": [
    {
     "data": {
      "text/plain": [
       "Array([5.2435527, 0.9917947], dtype=float32)"
      ]
     },
     "execution_count": 97,
     "metadata": {},
     "output_type": "execute_result"
    }
   ],
   "source": [
    "np.random.seed(0) # just for reproducbility\n",
    "params_vanilla_sgd = initialize_params() # dim is 2 by default\n",
    "\n",
    "max_epochs = 5000\n",
    "learning_rate = 0.01\n",
    "batch_size = 10\n",
    "\n",
    "for epoch in range(max_epochs):\n",
    "    # the choice function: 1st argument the size of samples, then batch size\n",
    "    batch_idxs = np.random.choice(m, batch_size)\n",
    "    grads = grad_jit(X[batch_idxs, :], y[batch_idxs], params_vanilla_sgd)\n",
    "    params_vanilla_sgd -= learning_rate * grads\n",
    "\n",
    "params_vanilla_sgd"
   ]
  },
  {
   "cell_type": "code",
   "execution_count": 98,
   "metadata": {},
   "outputs": [
    {
     "data": {
      "text/plain": [
       "array([89, 87,  5, 72, 98, 48, 85, 15, 62, 24])"
      ]
     },
     "execution_count": 98,
     "metadata": {},
     "output_type": "execute_result"
    }
   ],
   "source": [
    "np.random.choice(m, batch_size)\n",
    "# genera un array di 10 elementi con numeri da 0 a samples size"
   ]
  },
  {
   "cell_type": "code",
   "execution_count": 99,
   "metadata": {},
   "outputs": [
    {
     "data": {
      "text/plain": [
       "[<matplotlib.lines.Line2D at 0x1d7f25f8b50>]"
      ]
     },
     "execution_count": 99,
     "metadata": {},
     "output_type": "execute_result"
    },
    {
     "data": {
      "image/png": "[encoded data removed]",
      "text/plain": [
       "<Figure size 640x480 with 1 Axes>"
      ]
     },
     "metadata": {},
     "output_type": "display_data"
    }
   ],
   "source": [
    "plt.scatter(X[:, 1], y)\n",
    "plt.plot(X[:, 1], X @ coeff_exact, color=\"red\")\n",
    "plt.plot(X[:, 1], X @ params_vanilla_sgd, color=\"blue\")"
   ]
  },
  {
   "cell_type": "markdown",
   "metadata": {},
   "source": [
    "### Linear Regression Solution"
   ]
  },
  {
   "cell_type": "code",
   "execution_count": 100,
   "metadata": {},
   "outputs": [
    {
     "data": {
      "text/plain": [
       "array([5.22215108, 0.99532852])"
      ]
     },
     "execution_count": 100,
     "metadata": {},
     "output_type": "execute_result"
    },
    {
     "data": {
      "image/png": "[encoded data removed]",
      "text/plain": [
       "<Figure size 640x480 with 1 Axes>"
      ]
     },
     "metadata": {},
     "output_type": "display_data"
    }
   ],
   "source": [
    "params_least_square = np.linalg.pinv(X) @ y\n",
    "\n",
    "plt.scatter(X[:, 1], y)\n",
    "plt.plot(X[:, 1], X @ coeff_exact, color=\"red\")\n",
    "plt.plot(X[:, 1], X @ params_vanilla_sgd, color=\"blue\")\n",
    "plt.plot(X[:, 1], X @ params_least_square, \"--\", color=\"green\")\n",
    "params_least_square"
   ]
  },
  {
   "cell_type": "markdown",
   "metadata": {},
   "source": [
    "### Dynamic Learning Rate\n",
    "\n",
    "\n",
    "Consider a linear decay of the learning rate:\n",
    "$$\n",
    "\\lambda_k = \\max\\left(\\lambda_{\\min}, \\lambda_{\\max} \\left(1 - \\frac{k}{K}\\right)\\right)\n",
    "$$"
   ]
  },
  {
   "cell_type": "code",
   "execution_count": 101,
   "metadata": {},
   "outputs": [
    {
     "data": {
      "text/plain": [
       "array([5.18702602, 0.99880117])"
      ]
     },
     "execution_count": 101,
     "metadata": {},
     "output_type": "execute_result"
    }
   ],
   "source": [
    "np.random.seed(0)\n",
    "params_sgd_dynamic_lr = initialize_params()\n",
    "\n",
    "epochs = 4000\n",
    "learning_rate_max = 0.1\n",
    "learning_rate_min = 0.0001\n",
    "learning_rate_decay = 3000\n",
    "batch_size = 10\n",
    "\n",
    "for epoch in range(epochs):\n",
    "    # first thing to do is to compute the actual learning rate it will be used\n",
    "    learning_rate = max(\n",
    "        learning_rate_min, learning_rate_max * (1 - epoch / learning_rate_decay)\n",
    "    )\n",
    "    batch_idxs = np.random.choice(m, batch_size)\n",
    "    grads = grad_jit(X[batch_idxs,:], y[batch_idxs], params_sgd_dynamic_lr)\n",
    "    for i in range(len(grads)):\n",
    "        params_sgd_dynamic_lr[i] -= learning_rate * grads[i]\n",
    "\n",
    "params_sgd_dynamic_lr"
   ]
  },
  {
   "cell_type": "code",
   "execution_count": 102,
   "metadata": {},
   "outputs": [
    {
     "data": {
      "text/plain": [
       "[<matplotlib.lines.Line2D at 0x1d7f26cd890>]"
      ]
     },
     "execution_count": 102,
     "metadata": {},
     "output_type": "execute_result"
    },
    {
     "data": {
      "image/png": "[encoded data removed]",
      "text/plain": [
       "<Figure size 640x480 with 1 Axes>"
      ]
     },
     "metadata": {},
     "output_type": "display_data"
    }
   ],
   "source": [
    "plt.scatter(X[:, 1], y)\n",
    "plt.plot(X[:, 1], X @ coeff_exact, color=\"red\")\n",
    "plt.plot(X[:, 1], X @ params_vanilla_sgd, color=\"blue\")\n",
    "plt.plot(X[:, 1], X @ params_least_square, \"--\", color=\"green\")\n",
    "plt.plot(X[:, 1], X @ params_sgd_dynamic_lr, \"--\", color=\"yellow\")\n"
   ]
  },
  {
   "cell_type": "markdown",
   "metadata": {},
   "source": [
    "### SGD with Momentum"
   ]
  },
  {
   "cell_type": "code",
   "execution_count": 103,
   "metadata": {},
   "outputs": [
    {
     "data": {
      "text/plain": [
       "array([5.00696802, 1.03109908])"
      ]
     },
     "execution_count": 103,
     "metadata": {},
     "output_type": "execute_result"
    }
   ],
   "source": [
    "np.random.seed(0)\n",
    "params_sgd_momentum= initialize_params()\n",
    "\n",
    "epochs = 4000\n",
    "learning_rate_min = 0.0001\n",
    "learning_rate_max = 0.1\n",
    "learning_rate_decay = 3000\n",
    "batch_size = 10\n",
    "alpha = 0.9\n",
    "\n",
    "velocity = [0.0 for i in range(len(params))]\n",
    "for epoch in range(epochs):\n",
    "    learning_rate = max(\n",
    "        learning_rate_min, learning_rate_max * (1 - epochs / learning_rate_decay)\n",
    "    )\n",
    "    # compute the batch idxs\n",
    "    batch_idxs = np.random.choice(m, batch_size)\n",
    "    grads = grad_jit(X[batch_idxs, :], y[batch_idxs], params_sgd_momentum)\n",
    "    for i in range(len(params)):\n",
    "        velocity[i] = alpha * velocity[i] - learning_rate * grads[i]\n",
    "        params_sgd_momentum[i] += velocity[i]\n",
    "\n",
    "params_sgd_momentum\n"
   ]
  },
  {
   "cell_type": "code",
   "execution_count": 104,
   "metadata": {},
   "outputs": [
    {
     "data": {
      "text/plain": [
       "[<matplotlib.lines.Line2D at 0x1d7f2729fd0>]"
      ]
     },
     "execution_count": 104,
     "metadata": {},
     "output_type": "execute_result"
    },
    {
     "data": {
      "image/png": "[encoded data removed]",
      "text/plain": [
       "<Figure size 640x480 with 1 Axes>"
      ]
     },
     "metadata": {},
     "output_type": "display_data"
    }
   ],
   "source": [
    "plt.scatter(X[:, 1], y)\n",
    "plt.plot(X[:, 1], X @ coeff_exact, color=\"red\")\n",
    "plt.plot(X[:, 1], X @ params_vanilla_sgd, color=\"blue\")\n",
    "plt.plot(X[:, 1], X @ params_least_square, \"--\", color=\"green\")\n",
    "plt.plot(X[:, 1], X @ params_sgd_dynamic_lr, \"--\", color=\"yellow\")\n",
    "plt.plot(X[:, 1], X @ params_sgd_momentum, \"--\", color=\"violet\")"
   ]
  },
  {
   "cell_type": "code",
   "execution_count": 105,
   "metadata": {},
   "outputs": [],
   "source": [
    "# Compute MSE for each method\n",
    "mse_vanilla_gd = MSE(X, y, params_vanilla_sgd)\n",
    "mse_least_square = MSE(X, y, params_least_square)\n",
    "mse_sgd_dynamic_lr = MSE(X, y, params_sgd_dynamic_lr)\n",
    "mse_sgd_momentum = MSE(X, y, params_sgd_momentum)"
   ]
  },
  {
   "cell_type": "code",
   "execution_count": 106,
   "metadata": {},
   "outputs": [
    {
     "data": {
      "text/plain": [
       "'SGD (Momentum)'"
      ]
     },
     "execution_count": 106,
     "metadata": {},
     "output_type": "execute_result"
    }
   ],
   "source": [
    "method = [\"Vanilla GD (minibatch)\", \"Least Squares Regression\", \"SGD (Dynamic Learning Rate)\", \"SGD (Momentum)\"]\n",
    "parameters = [params_vanilla_sgd, params_least_square, params_sgd_dynamic_lr, params_sgd_momentum]\n",
    "MSE_results = [mse_vanilla_gd, mse_least_square, mse_sgd_dynamic_lr, mse_sgd_momentum]\n",
    "pd.DataFrame({'Method': method,\n",
    "              'Parameters': parameters,\n",
    "              'MSE': MSE})\n",
    "\n",
    "max_MSE_method = method[np.argmax(np.array(MSE_results))]\n",
    "max_MSE_method"
   ]
  },
  {
   "cell_type": "markdown",
   "metadata": {},
   "source": [
    "### Trial-and-Error\n",
    "\n",
    "Finding suitable learning rates and number of epochs involves trial-and-error, informed reasoning, and an understanding of how the learning rate impacts the optimization process."
   ]
  },
  {
   "cell_type": "code",
   "execution_count": null,
   "metadata": {},
   "outputs": [
    {
     "name": "stdout",
     "output_type": "stream",
     "text": [
      "   LearningRate               Parameters        MSE\n",
      "0         0.010   [5.2435527, 0.9917947]  9.9630785\n",
      "1         0.005  [5.2448916, 0.98766756]   9.970015\n",
      "2         0.001    [5.1375723, 1.003076]   9.972873\n",
      "3         0.020  [5.2003675, 0.80034256]  17.809948\n",
      "4         0.050  [5.1423097, 0.40284312]   46.06658\n",
      "5         0.100    [5.2426662, 1.714108]  54.822372\n",
      "6         0.150    [5.643747, 1.8778217]   70.31666\n",
      "7         0.200    [5.483565, 2.1972764]  92.634186\n",
      "\n",
      "Best learning rate based on MSE:\n",
      "LearningRate                      0.01\n",
      "Parameters      [5.2435527, 0.9917947]\n",
      "MSE                          9.9630785\n",
      "Name: 0, dtype: object\n"
     ]
    }
   ],
   "source": [
    "np.random.seed(0) # just for reproducbility\n",
    "params_vanilla_sgd = initialize_params() # dim is 2 by default\n",
    "\n",
    "max_epochs = 5000\n",
    "learning_rates = [0.001, 0.005, 0.01, 0.02, 0.05, 0.1, 0.15, 0.2]  \n",
    "batch_size = 10\n",
    "\n",
    "results = []\n",
    "\n",
    "for learning_rate in learning_rates:\n",
    "    # 1) Initialize parameters\n",
    "    params_candidate = initialize_params()\n",
    "\n",
    "    # 2) Run SGD\n",
    "    for epoch in range(max_epochs):\n",
    "        # the choice function: 1st argument the size of samples, then batch size\n",
    "        batch_idxs = np.random.choice(m, batch_size)\n",
    "        grads = grad_jit(X[batch_idxs, :], y[batch_idxs], params_candidate)\n",
    "        params_candidate -= learning_rate * grads\n",
    "\n",
    "    # 3) Compute final MSE\n",
    "    final_mse = MSE(X, y, params_candidate)\n",
    "\n",
    "    # 4) Store results\n",
    "    results.append({\n",
    "        \"LearningRate\": learning_rate,\n",
    "        \"Parameters\": params_candidate,\n",
    "        \"MSE\": final_mse\n",
    "    })\n",
    "\n",
    "# Convert results to a DataFrame\n",
    "df_results = pd.DataFrame(results)\n",
    "\n",
    "# Sort by MSE ascending\n",
    "df_results_sorted = df_results.sort_values(by=\"MSE\", ascending=True).reset_index(drop=True)\n",
    "\n",
    "print(df_results_sorted)\n",
    "print(\"\\nBest learning rate based on MSE:\")\n",
    "print(df_results_sorted.loc[0])"
   ]
  },
  {
   "cell_type": "code",
   "execution_count": 108,
   "metadata": {},
   "outputs": [
    {
     "data": {
      "text/plain": [
       "0.01"
      ]
     },
     "execution_count": 108,
     "metadata": {},
     "output_type": "execute_result"
    }
   ],
   "source": [
    "learning_rate = df_results_sorted.loc[0].LearningRate\n",
    "learning_rate"
   ]
  },
  {
   "cell_type": "code",
   "execution_count": 110,
   "metadata": {},
   "outputs": [
    {
     "name": "stdout",
     "output_type": "stream",
     "text": [
      "   ExpEpoch               Parameters        MSE\n",
      "0      5000   [5.2435527, 0.9917947]  9.9630785\n",
      "1      3000   [5.2323895, 0.9963952]   9.963666\n",
      "2      2000    [5.2024574, 0.982211]  10.028663\n",
      "3       500   [5.0877876, 1.0257457]  10.050013\n",
      "4      6000    [5.230047, 1.0396233]   10.51959\n",
      "5      1000  [5.2097397, 0.91706264]  11.607467\n",
      "6      4000   [5.2770963, 1.1173698]  13.832738\n",
      "7       100   [3.0759728, 1.2454206]  14.974319\n",
      "\n",
      "Best learning rate based on MSE:\n",
      "ExpEpoch                        5000\n",
      "Parameters    [5.2435527, 0.9917947]\n",
      "MSE                        9.9630785\n",
      "Name: 0, dtype: object\n"
     ]
    }
   ],
   "source": [
    "np.random.seed(0) # just for reproducbility\n",
    "params_vanilla_sgd = initialize_params() # dim is 2 by default\n",
    "\n",
    "epochs = [100, 500, 1000, 2000, 3000, 4000, 5000, 6000]\n",
    "batch_size = 10\n",
    "\n",
    "results = []\n",
    "\n",
    "for exp_epoch in epochs:\n",
    "    # 1) Initialize parameters\n",
    "    params_candidate = initialize_params()\n",
    "\n",
    "    # 2) Run SGD\n",
    "    for epoch in range(exp_epoch):\n",
    "        # the choice function: 1st argument the size of samples, then batch size\n",
    "        batch_idxs = np.random.choice(m, batch_size)\n",
    "        grads = grad_jit(X[batch_idxs, :], y[batch_idxs], params_candidate)\n",
    "        params_candidate -= learning_rate * grads\n",
    "\n",
    "    # 3) Compute final MSE\n",
    "    final_mse = MSE(X, y, params_candidate)\n",
    "\n",
    "    # 4) Store results\n",
    "    results.append({\n",
    "        \"ExpEpoch\": exp_epoch,\n",
    "        \"Parameters\": params_candidate,\n",
    "        \"MSE\": final_mse\n",
    "    })\n",
    "\n",
    "# Convert results to a DataFrame\n",
    "df_results = pd.DataFrame(results)\n",
    "\n",
    "# Sort by MSE ascending\n",
    "df_results_sorted = df_results.sort_values(by=\"MSE\", ascending=True).reset_index(drop=True)\n",
    "\n",
    "print(df_results_sorted)\n",
    "print(\"\\nBest learning rate based on MSE:\")\n",
    "print(df_results_sorted.loc[0])"
   ]
  },
  {
   "cell_type": "code",
   "execution_count": 111,
   "metadata": {},
   "outputs": [
    {
     "data": {
      "text/plain": [
       "5000"
      ]
     },
     "execution_count": 111,
     "metadata": {},
     "output_type": "execute_result"
    }
   ],
   "source": [
    "max_epochs = df_results_sorted.loc[0].ExpEpoch\n",
    "max_epochs"
   ]
  },
  {
   "cell_type": "code",
   "execution_count": 115,
   "metadata": {},
   "outputs": [
    {
     "data": {
      "text/html": [
       "<div>\n",
       "<style scoped>\n",
       "    .dataframe tbody tr th:only-of-type {\n",
       "        vertical-align: middle;\n",
       "    }\n",
       "\n",
       "    .dataframe tbody tr th {\n",
       "        vertical-align: top;\n",
       "    }\n",
       "\n",
       "    .dataframe thead th {\n",
       "        text-align: right;\n",
       "    }\n",
       "</style>\n",
       "<table border=\"1\" class=\"dataframe\">\n",
       "  <thead>\n",
       "    <tr style=\"text-align: right;\">\n",
       "      <th></th>\n",
       "      <th>LearningRate</th>\n",
       "      <th>Epoch</th>\n",
       "      <th>Parameters</th>\n",
       "      <th>MSE</th>\n",
       "    </tr>\n",
       "  </thead>\n",
       "  <tbody>\n",
       "    <tr>\n",
       "      <th>0</th>\n",
       "      <td>0.01</td>\n",
       "      <td>5000</td>\n",
       "      <td>[5.2435527, 0.9917947]</td>\n",
       "      <td>9.9630785</td>\n",
       "    </tr>\n",
       "  </tbody>\n",
       "</table>\n",
       "</div>"
      ],
      "text/plain": [
       "   LearningRate  Epoch              Parameters        MSE\n",
       "0          0.01   5000  [5.2435527, 0.9917947]  9.9630785"
      ]
     },
     "execution_count": 115,
     "metadata": {},
     "output_type": "execute_result"
    }
   ],
   "source": [
    "np.random.seed(0) # just for reproducbility\n",
    "params_vanilla_sgd = initialize_params() # dim is 2 by default\n",
    "\n",
    "max_epochs = 5000\n",
    "learning_rates = [0.001, 0.005, 0.01, 0.02, 0.05, 0.1, 0.15, 0.2]  \n",
    "batch_size = 10\n",
    "\n",
    "results = []\n",
    "\n",
    "for epoch in range(max_epochs):\n",
    "        # the choice function: 1st argument the size of samples, then batch size\n",
    "        batch_idxs = np.random.choice(m, batch_size)\n",
    "        grads = grad_jit(X[batch_idxs, :], y[batch_idxs], params_candidate)\n",
    "        params_candidate -= learning_rate * grads\n",
    "\n",
    "# 3) Compute final MSE\n",
    "final_mse = MSE(X, y, params_candidate)\n",
    "\n",
    "# 4) Store results\n",
    "results.append({\n",
    "    \"LearningRate\": learning_rate,\n",
    "    \"Epoch\": max_epochs,\n",
    "    \"Parameters\": params_candidate,\n",
    "    \"MSE\": final_mse\n",
    "})\n",
    "\n",
    "# Convert results to a DataFrame\n",
    "df_results = pd.DataFrame(results)\n",
    "df_results"
   ]
  }
 ],
 "metadata": {
  "kernelspec": {
   "display_name": "Python 3",
   "language": "python",
   "name": "python3"
  },
  "language_info": {
   "codemirror_mode": {
    "name": "ipython",
    "version": 3
   },
   "file_extension": ".py",
   "mimetype": "text/x-python",
   "name": "python",
   "nbconvert_exporter": "python",
   "pygments_lexer": "ipython3",
   "version": "3.11.5"
  }
 },
 "nbformat": 4,
 "nbformat_minor": 2
}
