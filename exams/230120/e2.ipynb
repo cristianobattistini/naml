{
 "cells": [
  {
   "cell_type": "markdown",
   "metadata": {},
   "source": [
    "### Exercise 2: Quantum Physics Dataset Classification\n",
    "\n",
    "Consider the subset of the Quantum Physics Dataset provided by Cornell University. The goal is to learn a classification rule that differentiates between two types of particles generated in high energy collider experiments.\n",
    "\n",
    "#### **Optimization Problem**\n",
    "\n",
    "Classify the data by solving the following minimization problem:\n",
    "$$\n",
    "\\min_w J(w) = \\frac{1}{N} \\sum_i J_i(w),\n",
    "$$\n",
    "where:\n",
    "$$\n",
    "J_i(w) = L(w^T x_i, y_i),\n",
    "$$\n",
    "and:\n",
    "$$\n",
    "L(s, y) = \\log(1 + \\exp(-sy)).\n",
    "$$\n",
    "\n"
   ]
  },
  {
   "cell_type": "code",
   "execution_count": 26,
   "metadata": {},
   "outputs": [
    {
     "name": "stdout",
     "output_type": "stream",
     "text": [
      "(10000, 46)\n",
      "(10000,)\n"
     ]
    }
   ],
   "source": [
    "from tqdm.notebook import tqdm\n",
    "import numpy as np\n",
    "import matplotlib.pyplot as plt\n",
    "import jax\n",
    "import jax.numpy as jnp\n",
    "\n",
    "X = np.genfromtxt(\"./data/X.dat\")  # Features\n",
    "y = np.genfromtxt(\"./data/y.dat\")  # Labels (+1, -1)\n",
    "\n",
    "print(X.shape)\n",
    "print(y.shape)\n",
    "\n",
    "n_samples, n_features = X.shape"
   ]
  },
  {
   "cell_type": "markdown",
   "metadata": {},
   "source": [
    "1. **Implement the Stochastic Gradient Descent Algorithm (SGD)**:\n",
    "   - Use a batch size of 1.\n",
    "   - Use a constant learning rate $\\eta = 0.5$.\n",
    "   - Perform 5000 iterations.\n",
    "   - Initialize the weight vector $w$ to zero."
   ]
  },
  {
   "cell_type": "code",
   "execution_count": 22,
   "metadata": {},
   "outputs": [
    {
     "data": {
      "text/plain": [
       "Array([0., 0., 0., 0., 0., 0., 0., 0., 0., 0., 0., 0., 0., 0., 0., 0., 0.,\n",
       "       0., 0., 0., 0., 0., 0., 0., 0., 0., 0., 0., 0., 0., 0., 0., 0., 0.,\n",
       "       0., 0., 0., 0., 0., 0., 0., 0., 0., 0., 0., 0.], dtype=float32)"
      ]
     },
     "execution_count": 22,
     "metadata": {},
     "output_type": "execute_result"
    }
   ],
   "source": [
    "# array with random gaussian initialization\n",
    "def initialize_params(dim=46):\n",
    "    return jnp.array([0.0 for i in range(dim)])\n",
    "initialize_params()\n"
   ]
  },
  {
   "cell_type": "code",
   "execution_count": 23,
   "metadata": {},
   "outputs": [],
   "source": [
    "def loss(X, y, w):\n",
    "    \"\"\"Compute L(w^T x_i, y_i) for a batch of data points.\"\"\"\n",
    "    s = jnp.dot(X, w)  # Correct order: (batch_size, num_features) @ (num_features,)\n",
    "    return jnp.mean(jnp.log(1 + jnp.exp(-s * y)))\n",
    "loss_jit = jax.jit(loss)\n",
    "grad_jit = jax.jit(jax.grad(loss, argnums=2))"
   ]
  },
  {
   "cell_type": "code",
   "execution_count": 31,
   "metadata": {},
   "outputs": [
    {
     "data": {
      "application/vnd.jupyter.widget-view+json": {
       "model_id": "999fb9e5ef0646c886c938ecb0c80c8e",
       "version_major": 2,
       "version_minor": 0
      },
      "text/plain": [
       "  0%|          | 0/5000 [00:00<?, ?it/s]"
      ]
     },
     "metadata": {},
     "output_type": "display_data"
    },
    {
     "name": "stdout",
     "output_type": "stream",
     "text": [
      "3.7903569\n"
     ]
    }
   ],
   "source": [
    "np.random.seed(0)\n",
    "params = initialize_params()\n",
    "lr = 0.5\n",
    "batch_size = 1\n",
    "num_epochs = 5000\n",
    "loss_history = list()\n",
    "for i in tqdm(range(num_epochs)):\n",
    "    batch_idx = np.random.choice(n_samples, batch_size)\n",
    "    grad = grad_jit(X[batch_idx, :], y[batch_idx], params)\n",
    "    params -= lr * grad\n",
    "    loss_history.append(loss_jit(X, y,params))\n",
    "\n",
    "print(loss_jit(X, y, params))\n",
    "\n"
   ]
  },
  {
   "cell_type": "markdown",
   "metadata": {},
   "source": [
    "\n",
    "2. **Repeat the Minimization Using Dynamic Learning Rate**:\n",
    "   Update the learning rate $\\eta_k$ using the following formula:\n",
    "   $$\n",
    "   \\eta_k = \\frac{\\eta_0}{1 + \\frac{k}{100}},\n",
    "   $$\n",
    "   where:\n",
    "   - $k$ is the iteration number.\n",
    "   - $\\eta_0 = 0.05$."
   ]
  },
  {
   "cell_type": "code",
   "execution_count": 28,
   "metadata": {},
   "outputs": [
    {
     "data": {
      "application/vnd.jupyter.widget-view+json": {
       "model_id": "e0db779e26814f3584749bd34c363f12",
       "version_major": 2,
       "version_minor": 0
      },
      "text/plain": [
       "  0%|          | 0/5000 [00:00<?, ?it/s]"
      ]
     },
     "metadata": {},
     "output_type": "display_data"
    },
    {
     "name": "stdout",
     "output_type": "stream",
     "text": [
      "0.59104127\n"
     ]
    }
   ],
   "source": [
    "np.random.seed(0)\n",
    "num_epochs = 5000\n",
    "batch_size = 1\n",
    "eta = 0.5\n",
    "\n",
    "params = initialize_params()\n",
    "loss_dyn_lr_history = list()\n",
    "# Perform SGD with dynamic learning rate\n",
    "for epoch in tqdm(range(num_epochs)):\n",
    "    learning_rate = eta / (1 + epoch / 100)\n",
    "    batch_idx = np.random.choice(n_samples, batch_size)\n",
    "    grad = grad_jit(X[batch_idx, :], y[batch_idx], params)\n",
    "    params -= learning_rate * grad\n",
    "    loss_dyn_lr_history.append(loss_jit(X, y, params))\n",
    "\n",
    "# Print final loss\n",
    "print(loss_jit(X, y, params))\n",
    "    "
   ]
  },
  {
   "cell_type": "markdown",
   "metadata": {},
   "source": [
    "#### **Goals**\n",
    "- Compare the results from the two tasks."
   ]
  },
  {
   "cell_type": "code",
   "execution_count": 32,
   "metadata": {},
   "outputs": [
    {
     "data": {
      "text/plain": [
       "<matplotlib.legend.Legend at 0x23117142c10>"
      ]
     },
     "execution_count": 32,
     "metadata": {},
     "output_type": "execute_result"
    },
    {
     "data": {
      "image/png": "[encoded data removed]",
      "text/plain": [
       "<Figure size 640x480 with 1 Axes>"
      ]
     },
     "metadata": {},
     "output_type": "display_data"
    }
   ],
   "source": [
    "plt.loglog(loss_dyn_lr_history, label=\"DLR\")\n",
    "plt.loglog(loss_history, label=\"SGD\")\n",
    "plt.legend()"
   ]
  }
 ],
 "metadata": {
  "kernelspec": {
   "display_name": "Python 3",
   "language": "python",
   "name": "python3"
  },
  "language_info": {
   "codemirror_mode": {
    "name": "ipython",
    "version": 3
   },
   "file_extension": ".py",
   "mimetype": "text/x-python",
   "name": "python",
   "nbconvert_exporter": "python",
   "pygments_lexer": "ipython3",
   "version": "3.11.5"
  }
 },
 "nbformat": 4,
 "nbformat_minor": 2
}
