{
 "cells": [
  {
   "cell_type": "markdown",
   "metadata": {},
   "source": [
    "### **Exercise 2**"
   ]
  },
  {
   "cell_type": "markdown",
   "metadata": {},
   "source": [
    "Give a brief explaination of the Gradient Descent method and motivate the introduction of the Stochastic Gradient Descent (SGD)."
   ]
  },
  {
   "cell_type": "markdown",
   "metadata": {},
   "source": [
    "#### **Brief Explanation of Gradient Descent**\n",
    "Gradient Descent is an optimization algorithm used to minimize a loss function by iteratively adjusting the parameters of a model. The key steps are:\n",
    "1. Compute the gradient of the loss function with respect to the parameters.\n",
    "2. Update the parameters in the direction of the negative gradient to reduce the loss.\n",
    "\n",
    "The update rule is:\n",
    "$$\n",
    "\\theta_{t+1} = \\theta_t - \\eta \\nabla L(\\theta_t)\n",
    "$$\n",
    "where:\n",
    "- $\\theta_t$: Parameters at iteration $t$,\n",
    "- $\\eta$: Learning rate (step size),\n",
    "- $\\nabla L(\\theta_t)$: Gradient of the loss function $L$ with respect to $\\theta_t$.\n",
    "\n",
    "---\n",
    "\n",
    "#### **Stochastic Gradient Descent (SGD)**\n",
    "SGD is a variant of Gradient Descent where the gradient is computed on a randomly selected subset (batch) of the data rather than the entire dataset. This reduces computational cost, especially for large datasets, and introduces noise that helps escape local minima.\n",
    "\n",
    "---\n",
    "\n",
    "#### **Dataset Setup**\n",
    "The dataset is defined as follows:\n",
    "```python\n",
    "m = 100\n",
    "noise = 1.0\n",
    "coeff_exact = np.array([5.0, 1.0])\n",
    "\n",
    "np.random.seed(0)\n",
    "X = np.c_[1*np.ones(m), 13.5 * np.random.rand(m, 1)]\n",
    "y = X @ coeff_exact + noise * np.random.randn(m)\n"
   ]
  },
  {
   "cell_type": "markdown",
   "metadata": {},
   "source": [
    "The Gradient Descent is an iterative optimization technique, usually applied in ML setting, to minimize a function, which is usualy a cost function (such as MSE) by adjusting some parameters of the function\n",
    "\n",
    "The optimization is performed by correcting the position of the current solution in the hyper-space of parameters by moving in the opposite direction of the gradient of the cost or MSE function, which is the direction of the maximum change of the function (this is way we move in the opposite direction of the gradient).\n",
    "\n",
    "The step size in the opposite gradient direction is controlled by an hyperparameter, which is called learning rate, and it controls the magnitude of the upate. The learning rate is of paramount importance in order to ensure the convergence of the method.\n",
    "\n",
    "This iterative approach is performed until a stopping criterion is met (either a maximum number of steps, or if a desired tolerance is met either of the residuals or between consecutive steps)"
   ]
  },
  {
   "cell_type": "markdown",
   "metadata": {},
   "source": [
    "The Stochastic Gradient Descent (SGD) has been introduced to speed up the computation of the gradient of the cost/MSE function, by computing it only on a random subset of the samples, called mini-batch, instead of computing in on the whole dataset.\n",
    "\n",
    "There are many ways to choose the subset of samples: only sample can be used, or a minibatch of the whole set (SGD with minibatch)"
   ]
  },
  {
   "cell_type": "code",
   "execution_count": 21,
   "metadata": {},
   "outputs": [],
   "source": [
    "import numpy as np\n",
    "import jax\n",
    "import jax.numpy as jnp\n",
    "import matplotlib.pyplot as plt"
   ]
  },
  {
   "cell_type": "code",
   "execution_count": 20,
   "metadata": {},
   "outputs": [],
   "source": [
    "m = 100 #number of samples\n",
    "noise = 1.0 # simulate real world measurement\n",
    "coeff_exact = np.array([5.0, 1.0]) #These are the exact coefficients [b,w] of the linear model: y= b + w*x, \n",
    "\n",
    "np.random.seed(0)\n",
    "X = np.c_[1*np.ones(m), 13.5 * np.random.rand(m, 1)]\n",
    "y = X @ coeff_exact + noise * np.random.randn(m)"
   ]
  },
  {
   "cell_type": "code",
   "execution_count": 7,
   "metadata": {},
   "outputs": [
    {
     "data": {
      "text/plain": [
       "array([[ 1.        ,  7.4089823 ],\n",
       "       [ 1.        ,  9.65505645],\n",
       "       [ 1.        ,  8.13730558],\n",
       "       [ 1.        ,  7.35592297],\n",
       "       [ 1.        ,  5.71933979],\n",
       "       [ 1.        ,  8.71957053],\n",
       "       [ 1.        ,  5.90742735],\n",
       "       [ 1.        , 12.03893551],\n",
       "       [ 1.        , 13.00944727],\n",
       "       [ 1.        ,  5.1764605 ],\n",
       "       [ 1.        , 10.68828801],\n",
       "       [ 1.        ,  7.14008142],\n",
       "       [ 1.        ,  7.66860157],\n",
       "       [ 1.        , 12.49555462],\n",
       "       [ 1.        ,  0.95898679],\n",
       "       [ 1.        ,  1.17624555],\n",
       "       [ 1.        ,  0.27294837],\n",
       "       [ 1.        , 11.24036791],\n",
       "       [ 1.        , 10.50511614],\n",
       "       [ 1.        , 11.745164  ],\n",
       "       [ 1.        , 13.21134762],\n",
       "       [ 1.        , 10.78864062],\n",
       "       [ 1.        ,  6.22997139],\n",
       "       [ 1.        , 10.53714388],\n",
       "       [ 1.        ,  1.59670475],\n",
       "       [ 1.        ,  8.63893379],\n",
       "       [ 1.        ,  1.93526938],\n",
       "       [ 1.        , 12.75303038],\n",
       "       [ 1.        ,  7.04495234],\n",
       "       [ 1.        ,  5.59793619],\n",
       "       [ 1.        ,  3.57150076],\n",
       "       [ 1.        , 10.45215481],\n",
       "       [ 1.        ,  6.15802948],\n",
       "       [ 1.        ,  7.67385831],\n",
       "       [ 1.        ,  0.25366231],\n",
       "       [ 1.        ,  8.33807921],\n",
       "       [ 1.        ,  8.26329226],\n",
       "       [ 1.        ,  8.32860896],\n",
       "       [ 1.        , 12.74059906],\n",
       "       [ 1.        ,  9.20457404],\n",
       "       [ 1.        ,  4.85335666],\n",
       "       [ 1.        ,  5.89993138],\n",
       "       [ 1.        ,  9.41802115],\n",
       "       [ 1.        ,  0.81304387],\n",
       "       [ 1.        ,  9.00135066],\n",
       "       [ 1.        ,  9.05361124],\n",
       "       [ 1.        ,  2.84016457],\n",
       "       [ 1.        ,  1.74050502],\n",
       "       [ 1.        ,  4.25828274],\n",
       "       [ 1.        ,  4.91009541],\n",
       "       [ 1.        ,  7.6976564 ],\n",
       "       [ 1.        ,  5.92112043],\n",
       "       [ 1.        , 13.34304681],\n",
       "       [ 1.        ,  1.37760495],\n",
       "       [ 1.        ,  2.81983621],\n",
       "       [ 1.        ,  2.17767849],\n",
       "       [ 1.        ,  8.81696239],\n",
       "       [ 1.        ,  3.41943663],\n",
       "       [ 1.        ,  6.29519543],\n",
       "       [ 1.        ,  3.29974549],\n",
       "       [ 1.        ,  2.14608938],\n",
       "       [ 1.        ,  1.49006441],\n",
       "       [ 1.        ,  8.86044946],\n",
       "       [ 1.        ,  1.86546984],\n",
       "       [ 1.        ,  2.65386188],\n",
       "       [ 1.        ,  4.9777898 ],\n",
       "       [ 1.        , 11.0834086 ],\n",
       "       [ 1.        ,  1.31086722],\n",
       "       [ 1.        , 11.31225625],\n",
       "       [ 1.        ,  1.29732851],\n",
       "       [ 1.        , 13.18220278],\n",
       "       [ 1.        ,  6.32679122],\n",
       "       [ 1.        , 13.18627469],\n",
       "       [ 1.        ,  8.16541452],\n",
       "       [ 1.        ,  9.98005832],\n",
       "       [ 1.        ,  0.5290352 ],\n",
       "       [ 1.        ,  3.81789399],\n",
       "       [ 1.        ,  1.62265358],\n",
       "       [ 1.        ,  3.99789267],\n",
       "       [ 1.        ,  1.60282421],\n",
       "       [ 1.        ,  4.29277292],\n",
       "       [ 1.        ,  5.59255043],\n",
       "       [ 1.        ,  0.8659912 ],\n",
       "       [ 1.        ,  9.34837361],\n",
       "       [ 1.        ,  7.64911963],\n",
       "       [ 1.        ,  3.58275813],\n",
       "       [ 1.        ,  7.06384872],\n",
       "       [ 1.        ,  1.2681969 ],\n",
       "       [ 1.        ,  7.77527769],\n",
       "       [ 1.        , 12.54549867],\n",
       "       [ 1.        ,  4.30068086],\n",
       "       [ 1.        ,  9.01004013],\n",
       "       [ 1.        ,  1.77927114],\n",
       "       [ 1.        ,  9.67041726],\n",
       "       [ 1.        ,  3.90698225],\n",
       "       [ 1.        ,  2.47308339],\n",
       "       [ 1.        ,  7.91792462],\n",
       "       [ 1.        ,  0.27145187],\n",
       "       [ 1.        , 11.19069039],\n",
       "       [ 1.        ,  0.06338893]])"
      ]
     },
     "execution_count": 7,
     "metadata": {},
     "output_type": "execute_result"
    }
   ],
   "source": [
    "X"
   ]
  },
  {
   "cell_type": "code",
   "execution_count": 6,
   "metadata": {},
   "outputs": [
    {
     "data": {
      "text/plain": [
       "(100, 2)"
      ]
     },
     "execution_count": 6,
     "metadata": {},
     "output_type": "execute_result"
    }
   ],
   "source": [
    "X.shape"
   ]
  },
  {
   "cell_type": "markdown",
   "metadata": {},
   "source": [
    "### **Dataset Explanation**\n",
    "\n",
    "1. **`np.c_[1*np.ones(m), 13.5 * np.random.rand(m, 1)]`:**\n",
    "   - Creates the feature matrix $X$ with two columns:\n",
    "     - The first column is a constant $1$, which represents the bias term $b$.\n",
    "     - The second column is a randomly generated feature $x$ scaled by $13.5$. This ensures $x$-values are in the range $[0, 13.5)$.\n",
    "\n",
    "2. **`X @ coeff_exact`:**\n",
    "   - Computes the exact linear relationship:\n",
    "     $$\n",
    "     y_{\\text{exact}} = b + w \\cdot x\n",
    "     $$\n",
    "   - The result is a vector of size $m$ (100 samples) representing the true $y$-values without noise.\n",
    "\n",
    "3. **`noise * np.random.randn(m)`:**\n",
    "   - Adds Gaussian noise to $y_{\\text{exact}}$:\n",
    "     - `np.random.randn(m)` generates 100 random values from a standard normal distribution ($\\mathcal{N}(0, 1)$).\n",
    "     - These values are scaled by the `noise` parameter ($1.0$).\n",
    "\n",
    "4. **`y = ...`:**\n",
    "   - The final $y$ vector contains the noisy observations of the dependent variable:\n",
    "     $$\n",
    "     y = b + w \\cdot x + \\text{noise}\n",
    "     $$\n"
   ]
  },
  {
   "cell_type": "markdown",
   "metadata": {},
   "source": [
    "Use the SGD to t a linear model to these data. Initialize the two unknown parameters using \n",
    "```python np.random.randn(2)```\n",
    "and find suitable values for the learning rate and for the number of epochs; motivate your choices.\n"
   ]
  },
  {
   "cell_type": "code",
   "execution_count": 22,
   "metadata": {},
   "outputs": [
    {
     "data": {
      "text/plain": [
       "[<matplotlib.lines.Line2D at 0x1d7e810a190>]"
      ]
     },
     "execution_count": 22,
     "metadata": {},
     "output_type": "execute_result"
    },
    {
     "data": {
      "image/png": "[encoded data removed]",
      "text/plain": [
       "<Figure size 640x480 with 1 Axes>"
      ]
     },
     "metadata": {},
     "output_type": "display_data"
    }
   ],
   "source": [
    "plt.scatter(X[:, 1], y)\n",
    "plt.plot(X[:, 1], X @ coeff_exact, color=\"red\")"
   ]
  },
  {
   "cell_type": "markdown",
   "metadata": {},
   "source": [
    "## Initialize parameters"
   ]
  },
  {
   "cell_type": "code",
   "execution_count": 12,
   "metadata": {},
   "outputs": [],
   "source": [
    "np.random.randn(2)\n",
    "np.random.seed(0)"
   ]
  },
  {
   "cell_type": "code",
   "execution_count": 15,
   "metadata": {},
   "outputs": [],
   "source": [
    "def initialize_params(dim =2):\n",
    "    np.random.seed(0)\n",
    "    return np.random.randn(2)"
   ]
  },
  {
   "cell_type": "code",
   "execution_count": 19,
   "metadata": {},
   "outputs": [
    {
     "data": {
      "text/plain": [
       "array([1.76405235, 0.40015721])"
      ]
     },
     "execution_count": 19,
     "metadata": {},
     "output_type": "execute_result"
    }
   ],
   "source": [
    "params = initialize_params()\n",
    "params"
   ]
  },
  {
   "cell_type": "markdown",
   "metadata": {},
   "source": [
    "### Define a Loss / Cost Function"
   ]
  },
  {
   "cell_type": "code",
   "execution_count": 26,
   "metadata": {},
   "outputs": [],
   "source": [
    "def MSE(x,y,params):\n",
    "    return jnp.sqrt(jnp.sum(jnp.square(y - x @ params)))\n",
    "''' \n",
    "y: target\n",
    "x: input \n",
    "params: learned parameters by the model\n",
    "the model y_hat = X @ params is of course made by the params found\n",
    "We compute the loss wrt the params found\n",
    "'''\n",
    "\n",
    "grad_jit = jax.jit(jax.grad(MSE, argnums=2)) # inform jax to compute grad wrt parameters\n",
    "''' \n",
    "it will be useful when we need to compute the gradient of the loss function\n",
    "at each epoch of the gradient descent itertive method\n",
    "'''\n",
    "MSE_jit = jax.jit(MSE) # just a compile option to speed up computation"
   ]
  },
  {
   "cell_type": "code",
   "execution_count": null,
   "metadata": {},
   "outputs": [],
   "source": [
    "np.random.seed(0)\n",
    "params = np.random.randn(2)\n",
    "\n",
    "max_epochs = 5000\n",
    "learning_rate = 0.01\n",
    "batch_size = 10\n",
    "\n",
    "for epoch in range(max_epochs):\n",
    "    batch_idxs = np.random.choice(m, batch_size)\n",
    "    grads = grad_jit(X[batch_idxs, :], y[batch_idxs], params)\n",
    "    params -= learning_rate * grads\n",
    "\n",
    "params"
   ]
  }
 ],
 "metadata": {
  "kernelspec": {
   "display_name": "Python 3",
   "language": "python",
   "name": "python3"
  },
  "language_info": {
   "codemirror_mode": {
    "name": "ipython",
    "version": 3
   },
   "file_extension": ".py",
   "mimetype": "text/x-python",
   "name": "python",
   "nbconvert_exporter": "python",
   "pygments_lexer": "ipython3",
   "version": "3.11.5"
  }
 },
 "nbformat": 4,
 "nbformat_minor": 2
}
